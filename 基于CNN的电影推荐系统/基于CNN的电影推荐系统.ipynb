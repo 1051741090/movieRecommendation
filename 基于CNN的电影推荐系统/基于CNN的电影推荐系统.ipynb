{
 "cells": [
  {
   "cell_type": "markdown",
   "metadata": {},
   "source": [
    "# 个性化推荐\n",
    "本项目使用卷积神经网络，并使用[`MovieLens`](https://grouplens.org/datasets/movielens/)数据集完成电影推荐的任务。\n",
    "\n"
   ]
  },
  {
   "cell_type": "markdown",
   "metadata": {},
   "source": [
    "推荐系统在日常的网络应用中无处不在，比如网上购物、网上买书、新闻app、社交网络、音乐网站、电影网站等等等等，有人的地方就有推荐。根据个人的喜好，相同喜好人群的习惯等信息进行个性化的内容推荐。比如打开新闻类的app，因为有了个性化的内容，每个人看到的新闻首页都是不一样的。"
   ]
  },
  {
   "cell_type": "markdown",
   "metadata": {},
   "source": [
    "这当然是很有用的，在信息爆炸的今天，获取信息的途径和方式多种多样，人们花费时间最多的不再是去哪获取信息，而是要在众多的信息中寻找自己感兴趣的，这就是信息超载问题。为了解决这个问题，推荐系统应运而生。"
   ]
  },
  {
   "cell_type": "markdown",
   "metadata": {},
   "source": [
    "协同过滤是推荐系统应用较广泛的技术，该方法搜集用户的历史记录、个人喜好等信息，计算与其他用户的相似度，利用相似用户的评价来预测目标用户对特定项目的喜好程度。优点是会给用户推荐未浏览过的项目，缺点呢，对于新用户来说，没有任何与商品的交互记录和个人喜好等信息，存在冷启动问题，导致模型无法找到相似的用户或商品。"
   ]
  },
  {
   "cell_type": "markdown",
   "metadata": {},
   "source": [
    "为了解决冷启动的问题，通常的做法是对于刚注册的用户，要求用户先选择自己感兴趣的话题、群组、商品、性格、喜欢的音乐类型等信息，比如豆瓣FM：\n",
    "<img src=\"assets/IMG_6242_300.PNG\"/>"
   ]
  },
  {
   "cell_type": "markdown",
   "metadata": {},
   "source": [
    "## 下载数据集\n",
    "运行下面代码把[`数据集`](http://files.grouplens.org/datasets/movielens/ml-1m.zip)下载下来"
   ]
  },
  {
   "cell_type": "code",
   "execution_count": 1,
   "metadata": {},
   "outputs": [
    {
     "name": "stderr",
     "output_type": "stream",
     "text": [
      "f:\\Anaconda3\\lib\\site-packages\\h5py\\__init__.py:36: FutureWarning: Conversion of the second argument of issubdtype from `float` to `np.floating` is deprecated. In future, it will be treated as `np.float64 == np.dtype(float).type`.\n",
      "  from ._conv import register_converters as _register_converters\n"
     ]
    }
   ],
   "source": [
    "import pandas as pd\n",
    "from sklearn.model_selection import train_test_split\n",
    "import numpy as np\n",
    "from collections import Counter\n",
    "import tensorflow as tf\n",
    "\n",
    "import os\n",
    "import pickle\n",
    "import re\n",
    "from tensorflow.python.ops import math_ops\n",
    "\n",
    "from urllib.request import urlretrieve\n",
    "from os.path import isfile, isdir\n",
    "from tqdm import tqdm\n",
    "import zipfile\n",
    "import hashlib"
   ]
  },
  {
   "cell_type": "code",
   "execution_count": 2,
   "metadata": {},
   "outputs": [],
   "source": [
    "def _unzip(save_path, _, database_name, data_path):\n",
    "    \"\"\"\n",
    "    Unzip wrapper with the same interface as _ungzip\n",
    "    :param save_path: The path of the gzip files\n",
    "    :param database_name: Name of database\n",
    "    :param data_path: Path to extract to\n",
    "    :param _: HACK - Used to have to same interface as _ungzip\n",
    "    \"\"\"\n",
    "    print('Extracting {}...'.format(database_name))\n",
    "    with zipfile.ZipFile(save_path) as zf:\n",
    "        zf.extractall(data_path)\n",
    "\n",
    "def download_extract(database_name, data_path):\n",
    "    \"\"\"\n",
    "    Download and extract database\n",
    "    :param database_name: Database name\n",
    "    \"\"\"\n",
    "    DATASET_ML1M = 'ml-1m'\n",
    "\n",
    "    if database_name == DATASET_ML1M:\n",
    "        url = 'http://files.grouplens.org/datasets/movielens/ml-1m.zip'\n",
    "        hash_code = 'c4d9eecfca2ab87c1945afe126590906'\n",
    "        extract_path = os.path.join(data_path, 'ml-1m')\n",
    "        save_path = os.path.join(data_path, 'ml-1m.zip')\n",
    "        extract_fn = _unzip\n",
    "\n",
    "    if os.path.exists(extract_path):\n",
    "        print('Found {} Data'.format(database_name))\n",
    "        return\n",
    "\n",
    "    if not os.path.exists(data_path):\n",
    "        os.makedirs(data_path)\n",
    "\n",
    "    if not os.path.exists(save_path):\n",
    "        with DLProgress(unit='B', unit_scale=True, miniters=1, desc='Downloading {}'.format(database_name)) as pbar:\n",
    "            urlretrieve(\n",
    "                url,\n",
    "                save_path,\n",
    "                pbar.hook)\n",
    "\n",
    "    assert hashlib.md5(open(save_path, 'rb').read()).hexdigest() == hash_code, \\\n",
    "        '{} file is corrupted.  Remove the file and try again.'.format(save_path)\n",
    "\n",
    "    os.makedirs(extract_path)\n",
    "    try:\n",
    "        extract_fn(save_path, extract_path, database_name, data_path)\n",
    "    except Exception as err:\n",
    "        shutil.rmtree(extract_path)  # Remove extraction folder if there is an error\n",
    "        raise err\n",
    "\n",
    "    print('Done.')\n",
    "    # Remove compressed data\n",
    "#     os.remove(save_path)\n",
    "\n",
    "class DLProgress(tqdm):\n",
    "    \"\"\"\n",
    "    Handle Progress Bar while Downloading\n",
    "    \"\"\"\n",
    "    last_block = 0\n",
    "\n",
    "    def hook(self, block_num=1, block_size=1, total_size=None):\n",
    "        \"\"\"\n",
    "        A hook function that will be called once on establishment of the network connection and\n",
    "        once after each block read thereafter.\n",
    "        :param block_num: A count of blocks transferred so far\n",
    "        :param block_size: Block size in bytes\n",
    "        :param total_size: The total size of the file. This may be -1 on older FTP servers which do not return\n",
    "                            a file size in response to a retrieval request.\n",
    "        \"\"\"\n",
    "        self.total = total_size\n",
    "        self.update((block_num - self.last_block) * block_size)\n",
    "        self.last_block = block_num"
   ]
  },
  {
   "cell_type": "code",
   "execution_count": 3,
   "metadata": {},
   "outputs": [
    {
     "name": "stdout",
     "output_type": "stream",
     "text": [
      "Found ml-1m Data\n"
     ]
    }
   ],
   "source": [
    "data_dir = './'\n",
    "download_extract('ml-1m', data_dir)"
   ]
  },
  {
   "cell_type": "markdown",
   "metadata": {},
   "source": [
    "## 先来看看数据"
   ]
  },
  {
   "cell_type": "markdown",
   "metadata": {},
   "source": [
    "本项目使用的是MovieLens 1M 数据集，包含6000个用户在近4000部电影上的1亿条评论。\n",
    "\n",
    "数据集分为三个文件：用户数据users.dat，电影数据movies.dat和评分数据ratings.dat。"
   ]
  },
  {
   "cell_type": "markdown",
   "metadata": {},
   "source": [
    "### 用户数据\n",
    "分别有用户ID、性别、年龄、职业ID和邮编等字段。\n",
    "\n",
    "数据中的格式：UserID::Gender::Age::Occupation::Zip-code\n",
    "\n",
    "- Gender is denoted by a \"M\" for male and \"F\" for female\n",
    "- Age is chosen from the following ranges:\n",
    "\n",
    "\t*  1:  \"Under 18\"\n",
    "\t* 18:  \"18-24\"\n",
    "\t* 25:  \"25-34\"\n",
    "\t* 35:  \"35-44\"\n",
    "\t* 45:  \"45-49\"\n",
    "\t* 50:  \"50-55\"\n",
    "\t* 56:  \"56+\"\n",
    "\n",
    "- Occupation is chosen from the following choices:\n",
    "\n",
    "\t*  0:  \"other\" or not specified\n",
    "\t*  1:  \"academic/educator\"\n",
    "\t*  2:  \"artist\"\n",
    "\t*  3:  \"clerical/admin\"\n",
    "\t*  4:  \"college/grad student\"\n",
    "\t*  5:  \"customer service\"\n",
    "\t*  6:  \"doctor/health care\"\n",
    "\t*  7:  \"executive/managerial\"\n",
    "\t*  8:  \"farmer\"\n",
    "\t*  9:  \"homemaker\"\n",
    "\t* 10:  \"K-12 student\"\n",
    "\t* 11:  \"lawyer\"\n",
    "\t* 12:  \"programmer\"\n",
    "\t* 13:  \"retired\"\n",
    "\t* 14:  \"sales/marketing\"\n",
    "\t* 15:  \"scientist\"\n",
    "\t* 16:  \"self-employed\"\n",
    "\t* 17:  \"technician/engineer\"\n",
    "\t* 18:  \"tradesman/craftsman\"\n",
    "\t* 19:  \"unemployed\"\n",
    "\t* 20:  \"writer\"\n",
    "\n"
   ]
  },
  {
   "cell_type": "code",
   "execution_count": 4,
   "metadata": {},
   "outputs": [
    {
     "data": {
      "text/html": [
       "<div>\n",
       "<style scoped>\n",
       "    .dataframe tbody tr th:only-of-type {\n",
       "        vertical-align: middle;\n",
       "    }\n",
       "\n",
       "    .dataframe tbody tr th {\n",
       "        vertical-align: top;\n",
       "    }\n",
       "\n",
       "    .dataframe thead th {\n",
       "        text-align: right;\n",
       "    }\n",
       "</style>\n",
       "<table border=\"1\" class=\"dataframe\">\n",
       "  <thead>\n",
       "    <tr style=\"text-align: right;\">\n",
       "      <th></th>\n",
       "      <th>UserID</th>\n",
       "      <th>Gender</th>\n",
       "      <th>Age</th>\n",
       "      <th>OccupationID</th>\n",
       "      <th>Zip-code</th>\n",
       "    </tr>\n",
       "  </thead>\n",
       "  <tbody>\n",
       "    <tr>\n",
       "      <th>0</th>\n",
       "      <td>1</td>\n",
       "      <td>F</td>\n",
       "      <td>1</td>\n",
       "      <td>10</td>\n",
       "      <td>48067</td>\n",
       "    </tr>\n",
       "    <tr>\n",
       "      <th>1</th>\n",
       "      <td>2</td>\n",
       "      <td>M</td>\n",
       "      <td>56</td>\n",
       "      <td>16</td>\n",
       "      <td>70072</td>\n",
       "    </tr>\n",
       "    <tr>\n",
       "      <th>2</th>\n",
       "      <td>3</td>\n",
       "      <td>M</td>\n",
       "      <td>25</td>\n",
       "      <td>15</td>\n",
       "      <td>55117</td>\n",
       "    </tr>\n",
       "    <tr>\n",
       "      <th>3</th>\n",
       "      <td>4</td>\n",
       "      <td>M</td>\n",
       "      <td>45</td>\n",
       "      <td>7</td>\n",
       "      <td>02460</td>\n",
       "    </tr>\n",
       "    <tr>\n",
       "      <th>4</th>\n",
       "      <td>5</td>\n",
       "      <td>M</td>\n",
       "      <td>25</td>\n",
       "      <td>20</td>\n",
       "      <td>55455</td>\n",
       "    </tr>\n",
       "  </tbody>\n",
       "</table>\n",
       "</div>"
      ],
      "text/plain": [
       "   UserID Gender  Age  OccupationID Zip-code\n",
       "0       1      F    1            10    48067\n",
       "1       2      M   56            16    70072\n",
       "2       3      M   25            15    55117\n",
       "3       4      M   45             7    02460\n",
       "4       5      M   25            20    55455"
      ]
     },
     "execution_count": 4,
     "metadata": {},
     "output_type": "execute_result"
    }
   ],
   "source": [
    "users_title = ['UserID', 'Gender', 'Age', 'OccupationID', 'Zip-code']\n",
    "users = pd.read_table('./ml-1m/users.dat', sep='::', header=None, names=users_title, engine = 'python')\n",
    "users.head()"
   ]
  },
  {
   "cell_type": "markdown",
   "metadata": {},
   "source": [
    "可以看出UserID、Gender、Age和Occupation都是类别字段，其中邮编字段是我们不使用的。"
   ]
  },
  {
   "cell_type": "markdown",
   "metadata": {},
   "source": [
    "### 电影数据\n",
    "分别有电影ID、电影名和电影风格等字段。\n",
    "\n",
    "数据中的格式：MovieID::Title::Genres\n",
    "\n",
    "- Titles are identical to titles provided by the IMDB (including\n",
    "year of release)\n",
    "- Genres are pipe-separated and are selected from the following genres:\n",
    "\n",
    "\t* Action\n",
    "\t* Adventure\n",
    "\t* Animation\n",
    "\t* Children's\n",
    "\t* Comedy\n",
    "\t* Crime\n",
    "\t* Documentary\n",
    "\t* Drama\n",
    "\t* Fantasy\n",
    "\t* Film-Noir\n",
    "\t* Horror\n",
    "\t* Musical\n",
    "\t* Mystery\n",
    "\t* Romance\n",
    "\t* Sci-Fi\n",
    "\t* Thriller\n",
    "\t* War\n",
    "\t* Western\n"
   ]
  },
  {
   "cell_type": "code",
   "execution_count": 5,
   "metadata": {},
   "outputs": [
    {
     "data": {
      "text/html": [
       "<div>\n",
       "<style scoped>\n",
       "    .dataframe tbody tr th:only-of-type {\n",
       "        vertical-align: middle;\n",
       "    }\n",
       "\n",
       "    .dataframe tbody tr th {\n",
       "        vertical-align: top;\n",
       "    }\n",
       "\n",
       "    .dataframe thead th {\n",
       "        text-align: right;\n",
       "    }\n",
       "</style>\n",
       "<table border=\"1\" class=\"dataframe\">\n",
       "  <thead>\n",
       "    <tr style=\"text-align: right;\">\n",
       "      <th></th>\n",
       "      <th>MovieID</th>\n",
       "      <th>Title</th>\n",
       "      <th>Genres</th>\n",
       "    </tr>\n",
       "  </thead>\n",
       "  <tbody>\n",
       "    <tr>\n",
       "      <th>0</th>\n",
       "      <td>1</td>\n",
       "      <td>Toy Story (1995)</td>\n",
       "      <td>Animation|Children's|Comedy</td>\n",
       "    </tr>\n",
       "    <tr>\n",
       "      <th>1</th>\n",
       "      <td>2</td>\n",
       "      <td>Jumanji (1995)</td>\n",
       "      <td>Adventure|Children's|Fantasy</td>\n",
       "    </tr>\n",
       "    <tr>\n",
       "      <th>2</th>\n",
       "      <td>3</td>\n",
       "      <td>Grumpier Old Men (1995)</td>\n",
       "      <td>Comedy|Romance</td>\n",
       "    </tr>\n",
       "    <tr>\n",
       "      <th>3</th>\n",
       "      <td>4</td>\n",
       "      <td>Waiting to Exhale (1995)</td>\n",
       "      <td>Comedy|Drama</td>\n",
       "    </tr>\n",
       "    <tr>\n",
       "      <th>4</th>\n",
       "      <td>5</td>\n",
       "      <td>Father of the Bride Part II (1995)</td>\n",
       "      <td>Comedy</td>\n",
       "    </tr>\n",
       "  </tbody>\n",
       "</table>\n",
       "</div>"
      ],
      "text/plain": [
       "   MovieID                               Title                        Genres\n",
       "0        1                    Toy Story (1995)   Animation|Children's|Comedy\n",
       "1        2                      Jumanji (1995)  Adventure|Children's|Fantasy\n",
       "2        3             Grumpier Old Men (1995)                Comedy|Romance\n",
       "3        4            Waiting to Exhale (1995)                  Comedy|Drama\n",
       "4        5  Father of the Bride Part II (1995)                        Comedy"
      ]
     },
     "execution_count": 5,
     "metadata": {},
     "output_type": "execute_result"
    }
   ],
   "source": [
    "movies_title = ['MovieID', 'Title', 'Genres']\n",
    "movies = pd.read_table('./ml-1m/movies.dat', sep='::', header=None, names=movies_title, engine = 'python')\n",
    "movies.head()"
   ]
  },
  {
   "cell_type": "markdown",
   "metadata": {},
   "source": [
    "MovieID是类别字段，Title是文本，Genres也是类别字段"
   ]
  },
  {
   "cell_type": "markdown",
   "metadata": {},
   "source": [
    "### 评分数据\n",
    "分别有用户ID、电影ID、评分和时间戳等字段。\n",
    "\n",
    "数据中的格式：UserID::MovieID::Rating::Timestamp\n",
    "\n",
    "- UserIDs range between 1 and 6040 \n",
    "- MovieIDs range between 1 and 3952\n",
    "- Ratings are made on a 5-star scale (whole-star ratings only)\n",
    "- Timestamp is represented in seconds since the epoch as returned by time(2)\n",
    "- Each user has at least 20 ratings"
   ]
  },
  {
   "cell_type": "code",
   "execution_count": 6,
   "metadata": {},
   "outputs": [
    {
     "data": {
      "text/html": [
       "<div>\n",
       "<style scoped>\n",
       "    .dataframe tbody tr th:only-of-type {\n",
       "        vertical-align: middle;\n",
       "    }\n",
       "\n",
       "    .dataframe tbody tr th {\n",
       "        vertical-align: top;\n",
       "    }\n",
       "\n",
       "    .dataframe thead th {\n",
       "        text-align: right;\n",
       "    }\n",
       "</style>\n",
       "<table border=\"1\" class=\"dataframe\">\n",
       "  <thead>\n",
       "    <tr style=\"text-align: right;\">\n",
       "      <th></th>\n",
       "      <th>UserID</th>\n",
       "      <th>MovieID</th>\n",
       "      <th>Rating</th>\n",
       "      <th>timestamps</th>\n",
       "    </tr>\n",
       "  </thead>\n",
       "  <tbody>\n",
       "    <tr>\n",
       "      <th>0</th>\n",
       "      <td>1</td>\n",
       "      <td>1193</td>\n",
       "      <td>5</td>\n",
       "      <td>978300760</td>\n",
       "    </tr>\n",
       "    <tr>\n",
       "      <th>1</th>\n",
       "      <td>1</td>\n",
       "      <td>661</td>\n",
       "      <td>3</td>\n",
       "      <td>978302109</td>\n",
       "    </tr>\n",
       "    <tr>\n",
       "      <th>2</th>\n",
       "      <td>1</td>\n",
       "      <td>914</td>\n",
       "      <td>3</td>\n",
       "      <td>978301968</td>\n",
       "    </tr>\n",
       "    <tr>\n",
       "      <th>3</th>\n",
       "      <td>1</td>\n",
       "      <td>3408</td>\n",
       "      <td>4</td>\n",
       "      <td>978300275</td>\n",
       "    </tr>\n",
       "    <tr>\n",
       "      <th>4</th>\n",
       "      <td>1</td>\n",
       "      <td>2355</td>\n",
       "      <td>5</td>\n",
       "      <td>978824291</td>\n",
       "    </tr>\n",
       "  </tbody>\n",
       "</table>\n",
       "</div>"
      ],
      "text/plain": [
       "   UserID  MovieID  Rating  timestamps\n",
       "0       1     1193       5   978300760\n",
       "1       1      661       3   978302109\n",
       "2       1      914       3   978301968\n",
       "3       1     3408       4   978300275\n",
       "4       1     2355       5   978824291"
      ]
     },
     "execution_count": 6,
     "metadata": {},
     "output_type": "execute_result"
    }
   ],
   "source": [
    "ratings_title = ['UserID','MovieID', 'Rating', 'timestamps']\n",
    "ratings = pd.read_table('./ml-1m/ratings.dat', sep='::', header=None, names=ratings_title, engine = 'python')\n",
    "ratings.head()"
   ]
  },
  {
   "cell_type": "markdown",
   "metadata": {},
   "source": [
    "评分字段Rating就是我们要学习的targets，时间戳字段我们不使用。"
   ]
  },
  {
   "cell_type": "markdown",
   "metadata": {},
   "source": [
    "## 来说说数据预处理"
   ]
  },
  {
   "cell_type": "markdown",
   "metadata": {},
   "source": [
    "- UserID、Occupation和MovieID不用变。\n",
    "- Gender字段：需要将‘F’和‘M’转换成0和1。\n",
    "- Age字段：要转成7个连续数字0~6。\n",
    "- Genres字段：是分类字段，要转成数字。首先将Genres中的类别转成字符串到数字的字典，然后再将每个电影的Genres字段转成数字列表，因为有些电影是多个Genres的组合。\n",
    "- Title字段：处理方式跟Genres字段一样，首先创建文本到数字的字典，然后将Title中的描述转成数字的列表。另外Title中的年份也需要去掉。\n",
    "- Genres和Title字段需要将长度统一，这样在神经网络中方便处理。空白部分用‘< PAD >’对应的数字填充。"
   ]
  },
  {
   "cell_type": "markdown",
   "metadata": {},
   "source": [
    "## 实现数据预处理"
   ]
  },
  {
   "cell_type": "code",
   "execution_count": 7,
   "metadata": {},
   "outputs": [],
   "source": [
    "def load_data():\n",
    "    \"\"\"\n",
    "    Load Dataset from File\n",
    "    \"\"\"\n",
    "    #读取User数据\n",
    "    users_title = ['UserID', 'Gender', 'Age', 'JobID', 'Zip-code']\n",
    "    users = pd.read_table('./ml-1m/users.dat', sep='::', header=None, names=users_title, engine = 'python')\n",
    "    # 保留以下特征\n",
    "    users = users.filter(regex='UserID|Gender|Age|JobID')\n",
    "    users_orig = users.values\n",
    "    #改变User数据中性别和年龄\n",
    "    gender_map = {'F':0, 'M':1}\n",
    "    users['Gender'] = users['Gender'].map(gender_map)\n",
    "\n",
    "    age_map = {val:ii for ii,val in enumerate(set(users['Age']))}\n",
    "    users['Age'] = users['Age'].map(age_map)\n",
    "\n",
    "    #读取Movie数据集\n",
    "    movies_title = ['MovieID', 'Title', 'Genres']\n",
    "    movies = pd.read_table('./ml-1m/movies.dat', sep='::', header=None, names=movies_title, engine = 'python')\n",
    "    movies_orig = movies.values\n",
    "    #将Title中的年份去掉\n",
    "    pattern = re.compile(r'^(.*)\\((\\d+)\\)$')\n",
    "\n",
    "    title_map = {val:pattern.match(val).group(1) for ii,val in enumerate(set(movies['Title']))}\n",
    "    movies['Title'] = movies['Title'].map(title_map)\n",
    "\n",
    "    #电影类型转数字字典\n",
    "    genres_set = set()\n",
    "    for val in movies['Genres'].str.split('|'):\n",
    "        genres_set.update(val)\n",
    "\n",
    "    genres_set.add('<PAD>')\n",
    "    # 将类型进行编号\n",
    "    genres2int = {val:ii for ii, val in enumerate(genres_set)}\n",
    "\n",
    "    #将电影类型转成等长数字列表\n",
    "    genres_map = {val:[genres2int[row] for row in val.split('|')] for ii,val in enumerate(set(movies['Genres']))}\n",
    "\n",
    "    # 将每个样本的电影类型数字列表处理成相同长度，长度不够用<PAD>填充\n",
    "    for key in genres_map:\n",
    "        for cnt in range(max(genres2int.values()) - len(genres_map[key])):\n",
    "            genres_map[key].insert(len(genres_map[key]) + cnt,genres2int['<PAD>'])\n",
    "    \n",
    "    movies['Genres'] = movies['Genres'].map(genres_map)\n",
    "\n",
    "    #电影Title转数字字典\n",
    "    title_set = set()\n",
    "    for val in movies['Title'].str.split():\n",
    "        title_set.update(val)\n",
    "    \n",
    "    title_set.add('<PAD>')\n",
    "    title2int = {val:ii for ii, val in enumerate(title_set)}\n",
    "\n",
    "    #将电影Title转成等长数字列表，长度是15\n",
    "    title_count = 15\n",
    "    title_map = {val:[title2int[row] for row in val.split()] for ii,val in enumerate(set(movies['Title']))}\n",
    "    \n",
    "    for key in title_map:\n",
    "        for cnt in range(title_count - len(title_map[key])):\n",
    "            title_map[key].insert(len(title_map[key]) + cnt,title2int['<PAD>'])\n",
    "    \n",
    "    movies['Title'] = movies['Title'].map(title_map)\n",
    "\n",
    "    #读取评分数据集\n",
    "    ratings_title = ['UserID','MovieID', 'ratings', 'timestamps']\n",
    "    ratings = pd.read_table('./ml-1m/ratings.dat', sep='::', header=None, names=ratings_title, engine = 'python')\n",
    "    ratings = ratings.filter(regex='UserID|MovieID|ratings')\n",
    "\n",
    "    #合并三个表\n",
    "    data = pd.merge(pd.merge(ratings, users), movies)\n",
    "    \n",
    "    #将数据分成X和y两张表\n",
    "    target_fields = ['ratings']\n",
    "    features_pd, targets_pd = data.drop(target_fields, axis=1), data[target_fields]\n",
    "    \n",
    "    features = features_pd.values\n",
    "    targets_values = targets_pd.values\n",
    "    \n",
    "    return title_count, title_set, genres2int, features, targets_values, ratings, users, movies, data, movies_orig, users_orig"
   ]
  },
  {
   "cell_type": "markdown",
   "metadata": {},
   "source": [
    "### 加载数据并保存到本地"
   ]
  },
  {
   "cell_type": "markdown",
   "metadata": {},
   "source": [
    "- title_count：Title字段的长度（15）\n",
    "- title_set：Title文本的集合\n",
    "- genres2int：电影类型转数字的字典\n",
    "- features：是输入X\n",
    "- targets_values：是学习目标y\n",
    "- ratings：评分数据集的Pandas对象\n",
    "- users：用户数据集的Pandas对象\n",
    "- movies：电影数据的Pandas对象\n",
    "- data：三个数据集组合在一起的Pandas对象\n",
    "- movies_orig：没有做数据处理的原始电影数据\n",
    "- users_orig：没有做数据处理的原始用户数据"
   ]
  },
  {
   "cell_type": "code",
   "execution_count": 8,
   "metadata": {},
   "outputs": [],
   "source": [
    "title_count, title_set, genres2int, features, targets_values, \\\n",
    "        ratings, users, movies, data, movies_orig, users_orig = load_data()\n",
    "\n",
    "with open('./processed_data/preprocess.pkl', 'wb') as f:\n",
    "    pickle.dump((title_count, \n",
    "                 title_set, \n",
    "                 genres2int, \n",
    "                 features, \n",
    "                 targets_values, \n",
    "                 ratings, \n",
    "                 users, \n",
    "                 movies, \n",
    "                 data, \n",
    "                 movies_orig, \n",
    "                 users_orig), \n",
    "                f)"
   ]
  },
  {
   "cell_type": "markdown",
   "metadata": {},
   "source": [
    "### 预处理后的数据"
   ]
  },
  {
   "cell_type": "code",
   "execution_count": 9,
   "metadata": {},
   "outputs": [
    {
     "data": {
      "text/html": [
       "<div>\n",
       "<style scoped>\n",
       "    .dataframe tbody tr th:only-of-type {\n",
       "        vertical-align: middle;\n",
       "    }\n",
       "\n",
       "    .dataframe tbody tr th {\n",
       "        vertical-align: top;\n",
       "    }\n",
       "\n",
       "    .dataframe thead th {\n",
       "        text-align: right;\n",
       "    }\n",
       "</style>\n",
       "<table border=\"1\" class=\"dataframe\">\n",
       "  <thead>\n",
       "    <tr style=\"text-align: right;\">\n",
       "      <th></th>\n",
       "      <th>UserID</th>\n",
       "      <th>Gender</th>\n",
       "      <th>Age</th>\n",
       "      <th>JobID</th>\n",
       "    </tr>\n",
       "  </thead>\n",
       "  <tbody>\n",
       "    <tr>\n",
       "      <th>0</th>\n",
       "      <td>1</td>\n",
       "      <td>0</td>\n",
       "      <td>0</td>\n",
       "      <td>10</td>\n",
       "    </tr>\n",
       "    <tr>\n",
       "      <th>1</th>\n",
       "      <td>2</td>\n",
       "      <td>1</td>\n",
       "      <td>5</td>\n",
       "      <td>16</td>\n",
       "    </tr>\n",
       "    <tr>\n",
       "      <th>2</th>\n",
       "      <td>3</td>\n",
       "      <td>1</td>\n",
       "      <td>6</td>\n",
       "      <td>15</td>\n",
       "    </tr>\n",
       "    <tr>\n",
       "      <th>3</th>\n",
       "      <td>4</td>\n",
       "      <td>1</td>\n",
       "      <td>2</td>\n",
       "      <td>7</td>\n",
       "    </tr>\n",
       "    <tr>\n",
       "      <th>4</th>\n",
       "      <td>5</td>\n",
       "      <td>1</td>\n",
       "      <td>6</td>\n",
       "      <td>20</td>\n",
       "    </tr>\n",
       "  </tbody>\n",
       "</table>\n",
       "</div>"
      ],
      "text/plain": [
       "   UserID  Gender  Age  JobID\n",
       "0       1       0    0     10\n",
       "1       2       1    5     16\n",
       "2       3       1    6     15\n",
       "3       4       1    2      7\n",
       "4       5       1    6     20"
      ]
     },
     "execution_count": 9,
     "metadata": {},
     "output_type": "execute_result"
    }
   ],
   "source": [
    "users.head()"
   ]
  },
  {
   "cell_type": "code",
   "execution_count": 10,
   "metadata": {},
   "outputs": [
    {
     "data": {
      "text/html": [
       "<div>\n",
       "<style scoped>\n",
       "    .dataframe tbody tr th:only-of-type {\n",
       "        vertical-align: middle;\n",
       "    }\n",
       "\n",
       "    .dataframe tbody tr th {\n",
       "        vertical-align: top;\n",
       "    }\n",
       "\n",
       "    .dataframe thead th {\n",
       "        text-align: right;\n",
       "    }\n",
       "</style>\n",
       "<table border=\"1\" class=\"dataframe\">\n",
       "  <thead>\n",
       "    <tr style=\"text-align: right;\">\n",
       "      <th></th>\n",
       "      <th>MovieID</th>\n",
       "      <th>Title</th>\n",
       "      <th>Genres</th>\n",
       "    </tr>\n",
       "  </thead>\n",
       "  <tbody>\n",
       "    <tr>\n",
       "      <th>0</th>\n",
       "      <td>1</td>\n",
       "      <td>[338, 4598, 4484, 4484, 4484, 4484, 4484, 4484...</td>\n",
       "      <td>[15, 11, 6, 13, 13, 13, 13, 13, 13, 13, 13, 13...</td>\n",
       "    </tr>\n",
       "    <tr>\n",
       "      <th>1</th>\n",
       "      <td>2</td>\n",
       "      <td>[3102, 4484, 4484, 4484, 4484, 4484, 4484, 448...</td>\n",
       "      <td>[5, 11, 18, 13, 13, 13, 13, 13, 13, 13, 13, 13...</td>\n",
       "    </tr>\n",
       "    <tr>\n",
       "      <th>2</th>\n",
       "      <td>3</td>\n",
       "      <td>[2683, 3525, 623, 4484, 4484, 4484, 4484, 4484...</td>\n",
       "      <td>[6, 17, 13, 13, 13, 13, 13, 13, 13, 13, 13, 13...</td>\n",
       "    </tr>\n",
       "    <tr>\n",
       "      <th>3</th>\n",
       "      <td>4</td>\n",
       "      <td>[271, 4140, 15, 4484, 4484, 4484, 4484, 4484, ...</td>\n",
       "      <td>[6, 16, 13, 13, 13, 13, 13, 13, 13, 13, 13, 13...</td>\n",
       "    </tr>\n",
       "    <tr>\n",
       "      <th>4</th>\n",
       "      <td>5</td>\n",
       "      <td>[456, 128, 2207, 4577, 1935, 3428, 4484, 4484,...</td>\n",
       "      <td>[6, 13, 13, 13, 13, 13, 13, 13, 13, 13, 13, 13...</td>\n",
       "    </tr>\n",
       "  </tbody>\n",
       "</table>\n",
       "</div>"
      ],
      "text/plain": [
       "   MovieID                                              Title  \\\n",
       "0        1  [338, 4598, 4484, 4484, 4484, 4484, 4484, 4484...   \n",
       "1        2  [3102, 4484, 4484, 4484, 4484, 4484, 4484, 448...   \n",
       "2        3  [2683, 3525, 623, 4484, 4484, 4484, 4484, 4484...   \n",
       "3        4  [271, 4140, 15, 4484, 4484, 4484, 4484, 4484, ...   \n",
       "4        5  [456, 128, 2207, 4577, 1935, 3428, 4484, 4484,...   \n",
       "\n",
       "                                              Genres  \n",
       "0  [15, 11, 6, 13, 13, 13, 13, 13, 13, 13, 13, 13...  \n",
       "1  [5, 11, 18, 13, 13, 13, 13, 13, 13, 13, 13, 13...  \n",
       "2  [6, 17, 13, 13, 13, 13, 13, 13, 13, 13, 13, 13...  \n",
       "3  [6, 16, 13, 13, 13, 13, 13, 13, 13, 13, 13, 13...  \n",
       "4  [6, 13, 13, 13, 13, 13, 13, 13, 13, 13, 13, 13...  "
      ]
     },
     "execution_count": 10,
     "metadata": {},
     "output_type": "execute_result"
    }
   ],
   "source": [
    "movies.head()"
   ]
  },
  {
   "cell_type": "code",
   "execution_count": 11,
   "metadata": {},
   "outputs": [
    {
     "data": {
      "text/plain": [
       "(1000209, 7)"
      ]
     },
     "execution_count": 11,
     "metadata": {},
     "output_type": "execute_result"
    }
   ],
   "source": [
    "features.shape"
   ]
  },
  {
   "cell_type": "markdown",
   "metadata": {},
   "source": [
    "### 从本地读取数据"
   ]
  },
  {
   "cell_type": "code",
   "execution_count": 12,
   "metadata": {},
   "outputs": [],
   "source": [
    "with open('./processed_data/preprocess.pkl', mode='rb') as f:\n",
    "    title_count, title_set, genres2int, features, \\\n",
    "        targets_values, ratings, users, movies, data, movies_orig, users_orig = pickle.load(f)"
   ]
  },
  {
   "cell_type": "markdown",
   "metadata": {},
   "source": [
    "## 模型设计"
   ]
  },
  {
   "cell_type": "markdown",
   "metadata": {},
   "source": [
    "<img src=\"assets/model.001.jpeg\"/>"
   ]
  },
  {
   "cell_type": "markdown",
   "metadata": {},
   "source": [
    "通过研究数据集中的字段类型，我们发现有一些是类别字段，通常的处理是将这些字段转成one hot编码，但是像UserID、MovieID这样的字段就会变成非常的稀疏，输入的维度急剧膨胀，这是我们不愿意见到的，毕竟我这小笔记本不像大厂动辄能处理数以亿计维度的输入：）\n",
    "\n",
    "所以在预处理数据时将这些字段转成了数字，我们用这个数字当做嵌入矩阵的索引，在网络的第一层使用了嵌入层，维度是（N，32）和（N，16）。\n",
    "这里的思想其实和 word2vec 比较类似。我们会对用户或者电影的每个属性都指定一个特征维度空间，这就好比我们在自然语言处理中对每个单词指定特征维度空间。从下面的代码中可以看到，我们将用到的属性的特征维度设置为了 32 或者 16.\n",
    "\n",
    "电影类型的处理要多一步，有时一个电影有多个电影类型，这样从嵌入矩阵索引出来是一个（n，32）的矩阵，因为有多个类型嘛，我们要将这个矩阵求和，变成（1，32）的向量。\n",
    "\n",
    "电影名的处理比较特殊，没有使用循环神经网络，而是用了文本卷积网络，下文会进行说明。\n",
    "\n",
    "从嵌入层索引出特征以后，将各特征传入全连接层，将输出再次传入全连接层，最终分别得到（1，200）的用户特征和电影特征两个特征向量。\n",
    "\n",
    "我们的目的就是要训练出用户特征和电影特征，在实现推荐功能时使用。得到这两个特征以后，就可以选择任意的方式来拟合评分了。我使用了两种方式，一个是上图中画出的将两个特征做向量乘法，将结果与真实评分做回归，采用MSE优化损失。因为本质上这是一个回归问题，另一种方式是，将两个特征作为输入，再次传入全连接层，输出一个值，将输出值回归到真实评分，采用MSE优化损失。\n",
    "\n",
    "实际上第二个方式的MSE loss在0.8附近，第一个方式在1附近，5次迭代的结果。"
   ]
  },
  {
   "cell_type": "markdown",
   "metadata": {},
   "source": [
    "## 文本卷积网络\n",
    "网络看起来像下面这样"
   ]
  },
  {
   "cell_type": "markdown",
   "metadata": {},
   "source": [
    "<img src=\"assets/text_cnn.png\"/>\n",
    "图片来自Kim Yoon的论文：[`Convolutional Neural Networks for Sentence Classification`](https://arxiv.org/abs/1408.5882)\n",
    "\n",
    "将卷积神经网络用于文本的文章建议你阅读[`Understanding Convolutional Neural Networks for NLP`](http://www.wildml.com/2015/11/understanding-convolutional-neural-networks-for-nlp/)"
   ]
  },
  {
   "cell_type": "markdown",
   "metadata": {},
   "source": [
    "网络的第一层是词嵌入层，由每一个单词的嵌入向量组成的嵌入矩阵。下一层使用多个不同尺寸（窗口大小）的卷积核在嵌入矩阵上做卷积，<b>窗口大小指的是每次卷积覆盖几个单词</b>。这里跟对图像做卷积不太一样，图像的卷积通常用2x2、3x3、5x5之类的尺寸，而文本卷积要覆盖整个单词的嵌入向量，所以尺寸是（单词数，向量维度），比如每次滑动3个，4个或者5个单词。第三层网络是max pooling得到一个长向量，最后使用dropout做正则化，最终得到了电影Title的特征。"
   ]
  },
  {
   "cell_type": "markdown",
   "metadata": {},
   "source": [
    "## 辅助函数"
   ]
  },
  {
   "cell_type": "code",
   "execution_count": 13,
   "metadata": {},
   "outputs": [],
   "source": [
    "import tensorflow as tf\n",
    "import os\n",
    "import pickle\n",
    "\n",
    "def save_params(params):\n",
    "    \"\"\"\n",
    "    Save parameters to file\n",
    "    \"\"\"\n",
    "    with open('params.p', 'wb') as f:\n",
    "        pickle.dump(params, f)\n",
    "\n",
    "\n",
    "def load_params():\n",
    "    \"\"\"\n",
    "    Load parameters from file\n",
    "    \"\"\"\n",
    "    with open('params.p', mode='rb') as f:\n",
    "        return pickle.load(f)\n"
   ]
  },
  {
   "cell_type": "markdown",
   "metadata": {},
   "source": [
    "## 编码实现"
   ]
  },
  {
   "cell_type": "code",
   "execution_count": 14,
   "metadata": {},
   "outputs": [],
   "source": [
    "#嵌入矩阵的维度\n",
    "embed_dim = 32\n",
    "# 下面之所以要 +1 是因为编号和实际数量之间是差 1 的\n",
    "#用户ID个数\n",
    "uid_max = max(features.take(0,1)) + 1 # 6040\n",
    "#性别个数\n",
    "gender_max = max(features.take(2,1)) + 1 # 1 + 1 = 2\n",
    "#年龄类别个数\n",
    "age_max = max(features.take(3,1)) + 1 # 6 + 1 = 7\n",
    "#职业个数\n",
    "job_max = max(features.take(4,1)) + 1# 20 + 1 = 21\n",
    "\n",
    "#电影ID个数\n",
    "movie_id_max = max(features.take(1,1)) + 1 # 3952\n",
    "#电影类型个数，有个<PAD>\n",
    "movie_categories_max = max(genres2int.values()) + 1 # 18 + 1 = 19\n",
    "#电影名单词个数\n",
    "movie_title_max = len(title_set) # 5216\n",
    "\n",
    "#对电影类型嵌入向量做加和操作的标志，考虑过使用mean做平均，但是没实现mean\n",
    "combiner = \"sum\"\n",
    "\n",
    "#电影名长度，做词嵌入要求输入的维度是固定的，这里设置为 15\n",
    "# 长度不够用空白符填充，太长则进行截断\n",
    "sentences_size = title_count # = 15\n",
    "#文本卷积滑动窗口，分别滑动2, 3, 4, 5个单词\n",
    "window_sizes = {2, 3, 4, 5}\n",
    "#文本卷积核数量\n",
    "filter_num = 8\n",
    "\n",
    "#电影ID转下标的字典，数据集中电影ID跟下标不一致，比如第5行的数据电影ID不一定是5\n",
    "movieid2idx = {val[0]:i for i, val in enumerate(movies.values)}"
   ]
  },
  {
   "cell_type": "markdown",
   "metadata": {},
   "source": [
    "### 超参"
   ]
  },
  {
   "cell_type": "code",
   "execution_count": 15,
   "metadata": {},
   "outputs": [],
   "source": [
    "# Number of Epochs\n",
    "num_epochs = 5\n",
    "# Batch Size\n",
    "batch_size = 256\n",
    "\n",
    "dropout_keep = 0.5\n",
    "# Learning Rate\n",
    "learning_rate = 0.0001\n",
    "# Show stats for every n number of batches\n",
    "show_every_n_batches = 50\n",
    "\n",
    "save_dir = './save'"
   ]
  },
  {
   "cell_type": "markdown",
   "metadata": {},
   "source": [
    "### 输入"
   ]
  },
  {
   "cell_type": "markdown",
   "metadata": {},
   "source": [
    "定义输入的占位符"
   ]
  },
  {
   "cell_type": "code",
   "execution_count": 16,
   "metadata": {},
   "outputs": [],
   "source": [
    "def get_inputs():\n",
    "    uid = tf.placeholder(tf.int32, [None, 1], name=\"uid\")\n",
    "    user_gender = tf.placeholder(tf.int32, [None, 1], name=\"user_gender\")\n",
    "    user_age = tf.placeholder(tf.int32, [None, 1], name=\"user_age\")\n",
    "    user_job = tf.placeholder(tf.int32, [None, 1], name=\"user_job\")\n",
    "    \n",
    "    movie_id = tf.placeholder(tf.int32, [None, 1], name=\"movie_id\")\n",
    "    # 电影种类中要去除<PAD>，所以-1\n",
    "    movie_categories = tf.placeholder(tf.int32, [None, movie_categories_max-1], name=\"movie_categories\")\n",
    "    movie_titles = tf.placeholder(tf.int32, [None, 15], name=\"movie_titles\")\n",
    "    targets = tf.placeholder(tf.int32, [None, 1], name=\"targets\")\n",
    "    LearningRate = tf.placeholder(tf.float32, name = \"LearningRate\")\n",
    "    dropout_keep_prob = tf.placeholder(tf.float32, name = \"dropout_keep_prob\")\n",
    "    return uid, user_gender, user_age, user_job, \\\n",
    "            movie_id, movie_categories, movie_titles, targets, \\\n",
    "                LearningRate, dropout_keep_prob"
   ]
  },
  {
   "cell_type": "markdown",
   "metadata": {},
   "source": [
    "## 构建神经网络"
   ]
  },
  {
   "cell_type": "markdown",
   "metadata": {},
   "source": [
    "#### 定义User的嵌入矩阵"
   ]
  },
  {
   "cell_type": "code",
   "execution_count": 17,
   "metadata": {},
   "outputs": [],
   "source": [
    "# 从上面的网络架构图中，我们可以看出，其实用户的特征总数量是 128\n",
    "# 但是作者在下面的代码中并没有这样做，而是由的特征设置为了 16，这样可能是因为作者的电脑性能比较差\n",
    "# 我们先尝试这样的设置，如果计算资源允许，我们在后面再次测试的时候全部设置为 32\n",
    "def get_user_embedding(uid, user_gender, user_age, user_job):\n",
    "    with tf.name_scope(\"user_embedding\"):\n",
    "        # 下面的操作和情感分析项目中的单词转换为词向量的操作本质上是一样的\n",
    "        # 用户的特征维度设置为 32\n",
    "        # 先初始化一个非常大的用户矩阵\n",
    "        # tf.random_uniform 的第二个参数是初始化的最小值，这里是-1，第三个参数是初始化的最大值，这里是1\n",
    "        uid_embed_matrix = tf.Variable(tf.random_uniform([uid_max, embed_dim], -1, 1), \n",
    "                                       name = \"uid_embed_matrix\")\n",
    "        # 根据指定用户ID找到他对应的嵌入层\n",
    "        uid_embed_layer = tf.nn.embedding_lookup(uid_embed_matrix, uid, \n",
    "                                                 name = \"uid_embed_layer\")\n",
    "    \n",
    "        # 性别的特征维度设置为 16\n",
    "        gender_embed_matrix = tf.Variable(tf.random_uniform([gender_max, embed_dim // 2], -1, 1), \n",
    "                                          name= \"gender_embed_matrix\")\n",
    "        gender_embed_layer = tf.nn.embedding_lookup(gender_embed_matrix, user_gender, \n",
    "                                                    name = \"gender_embed_layer\")\n",
    "        \n",
    "        # 年龄的特征维度设置为 16\n",
    "        age_embed_matrix = tf.Variable(tf.random_uniform([age_max, embed_dim // 2], -1, 1),\n",
    "                                       name=\"age_embed_matrix\")\n",
    "        age_embed_layer = tf.nn.embedding_lookup(age_embed_matrix, user_age, \n",
    "                                                 name=\"age_embed_layer\")\n",
    "        \n",
    "        # 职业的特征维度设置为 16\n",
    "        job_embed_matrix = tf.Variable(tf.random_uniform([job_max, embed_dim // 2], -1, 1), \n",
    "                                       name = \"job_embed_matrix\")\n",
    "        job_embed_layer = tf.nn.embedding_lookup(job_embed_matrix, user_job, \n",
    "                                                 name = \"job_embed_layer\")\n",
    "    # 返回产生的用户数据数据\n",
    "    return uid_embed_layer, gender_embed_layer, age_embed_layer, job_embed_layer"
   ]
  },
  {
   "cell_type": "markdown",
   "metadata": {},
   "source": [
    "#### 将User的嵌入矩阵一起全连接生成User的特征"
   ]
  },
  {
   "cell_type": "code",
   "execution_count": 18,
   "metadata": {},
   "outputs": [],
   "source": [
    "def get_user_feature_layer(uid_embed_layer, gender_embed_layer, age_embed_layer, job_embed_layer):\n",
    "    with tf.name_scope(\"user_fc\"):\n",
    "        #第一层全连接\n",
    "        # tf.layers.dense 的第一个参数是输入，第二个参数是层的单元的数量\n",
    "        uid_fc_layer = tf.layers.dense(uid_embed_layer, embed_dim, name = \"uid_fc_layer\", activation=tf.nn.relu)\n",
    "        gender_fc_layer = tf.layers.dense(gender_embed_layer, embed_dim, name = \"gender_fc_layer\", activation=tf.nn.relu)\n",
    "        age_fc_layer = tf.layers.dense(age_embed_layer, embed_dim, name =\"age_fc_layer\", activation=tf.nn.relu)\n",
    "        job_fc_layer = tf.layers.dense(job_embed_layer, embed_dim, name = \"job_fc_layer\", activation=tf.nn.relu)\n",
    "        \n",
    "        #第二层全连接\n",
    "        # 将上面的每个分段组成一个完整的全连接层\n",
    "        user_combine_layer = tf.concat([uid_fc_layer, gender_fc_layer, age_fc_layer, job_fc_layer], 2)  #(?, 1, 128)\n",
    "        # 验证上面产生的 tensorflow 是否是 128 维度的\n",
    "        print(user_combine_layer.shape)\n",
    "        # tf.contrib.layers.fully_connected 的第一个参数是输入，第二个参数是输出\n",
    "        # 这里的输入是user_combine_layer，输出是200，是指每个用户有200个特征\n",
    "        # 相当于是一个200个分类的问题，每个分类的可能性都会输出，在这里指的就是每个特征的可能性\n",
    "        user_combine_layer = tf.contrib.layers.fully_connected(user_combine_layer, 200, tf.tanh)  #(?, 1, 200)\n",
    "    \n",
    "        user_combine_layer_flat = tf.reshape(user_combine_layer, [-1, 200])\n",
    "    return user_combine_layer, user_combine_layer_flat"
   ]
  },
  {
   "cell_type": "markdown",
   "metadata": {},
   "source": [
    "#### 定义Movie ID的嵌入矩阵"
   ]
  },
  {
   "cell_type": "code",
   "execution_count": 19,
   "metadata": {},
   "outputs": [],
   "source": [
    "def get_movie_id_embed_layer(movie_id):\n",
    "    with tf.name_scope(\"movie_embedding\"):\n",
    "        movie_id_embed_matrix = tf.Variable(tf.random_uniform([movie_id_max, embed_dim], -1, 1), name = \"movie_id_embed_matrix\")\n",
    "        movie_id_embed_layer = tf.nn.embedding_lookup(movie_id_embed_matrix, movie_id, name = \"movie_id_embed_layer\")\n",
    "    return movie_id_embed_layer"
   ]
  },
  {
   "cell_type": "markdown",
   "metadata": {},
   "source": [
    "#### 对电影类型的多个嵌入向量做加和"
   ]
  },
  {
   "cell_type": "code",
   "execution_count": 20,
   "metadata": {},
   "outputs": [],
   "source": [
    "def get_movie_categories_layers(movie_categories):\n",
    "    with tf.name_scope(\"movie_categories_layers\"):\n",
    "        movie_categories_embed_matrix = tf.Variable(tf.random_uniform([movie_categories_max, embed_dim], -1, 1), name = \"movie_categories_embed_matrix\")\n",
    "        movie_categories_embed_layer = tf.nn.embedding_lookup(movie_categories_embed_matrix, movie_categories, name = \"movie_categories_embed_layer\")\n",
    "        if combiner == \"sum\":\n",
    "            movie_categories_embed_layer = tf.reduce_sum(movie_categories_embed_layer, axis=1, keep_dims=True)\n",
    "    #     elif combiner == \"mean\":\n",
    "\n",
    "    return movie_categories_embed_layer"
   ]
  },
  {
   "cell_type": "markdown",
   "metadata": {},
   "source": [
    "#### Movie Title的文本卷积网络实现"
   ]
  },
  {
   "cell_type": "code",
   "execution_count": 21,
   "metadata": {},
   "outputs": [],
   "source": [
    "def get_movie_cnn_layer(movie_titles):\n",
    "    #从嵌入矩阵中得到电影名对应的各个单词的嵌入向量\n",
    "    with tf.name_scope(\"movie_embedding\"):\n",
    "        movie_title_embed_matrix = tf.Variable(tf.random_uniform([movie_title_max, embed_dim], -1, 1), name = \"movie_title_embed_matrix\")\n",
    "        movie_title_embed_layer = tf.nn.embedding_lookup(movie_title_embed_matrix, movie_titles, name = \"movie_title_embed_layer\")\n",
    "        # 为 movie_title_embed_layer 增加一个维度\n",
    "        # 在这里是添加到最后一个维度，最后一个维度是channel\n",
    "        # 所以这里的channel数量是1个\n",
    "        # 所以这里的处理方式和图片是一样的\n",
    "        movie_title_embed_layer_expand = tf.expand_dims(movie_title_embed_layer, -1)\n",
    "    \n",
    "    #对文本嵌入层使用不同尺寸的卷积核做卷积和最大池化\n",
    "    pool_layer_lst = []\n",
    "    for window_size in window_sizes:\n",
    "        with tf.name_scope(\"movie_txt_conv_maxpool_{}\".format(window_size)):\n",
    "            # [window_size, embed_dim, 1, filter_num] 表示输入的 channel 的个数是1，输出的 channel 的个数是 filter_num\n",
    "            filter_weights = tf.Variable(tf.truncated_normal([window_size, embed_dim, 1, filter_num],stddev=0.1),name = \"filter_weights\")\n",
    "            filter_bias = tf.Variable(tf.constant(0.1, shape=[filter_num]), name=\"filter_bias\")\n",
    "            \n",
    "            # conv2d 是指用到的卷积核的大小是 [filter_height * filter_width * in_channels, output_channels]\n",
    "            # 在这里卷积核会向两个维度的方向进行滑动\n",
    "            # conv1d 是将卷积核向一个维度的方向进行滑动，这就是 conv1d 和 conv2d 的区别\n",
    "            # strides 设置要求第一个和最后一个数字是1，四个数字的顺序要求默认是 NHWC，也就是 [batch, height, width, channels]\n",
    "            # padding 设置为 VALID 其实就是不 PAD，设置为 SAME 就是让输入和输出的维度是一样的\n",
    "            conv_layer = tf.nn.conv2d(movie_title_embed_layer_expand, filter_weights, [1,1,1,1], padding=\"VALID\", name=\"conv_layer\")\n",
    "            # tf.nn.bias_add 将偏差 filter_bias 加到 conv_layer 上\n",
    "            # tf.nn.relu 将激活函数设置为 relu\n",
    "            relu_layer = tf.nn.relu(tf.nn.bias_add(conv_layer,filter_bias), name =\"relu_layer\")\n",
    "            \n",
    "            \n",
    "            # tf.nn.max_pool 的第一个参数是输入\n",
    "            # 第二个参数是 max_pool 窗口的大小，每个数值表示对每个维度的窗口设置\n",
    "            # 第三个参数是 strides，和 conv2d 的设置是一样的\n",
    "            # 这边的池化是将上面每个卷积核的卷积结果转换为一个元素\n",
    "            maxpool_layer = tf.nn.max_pool(relu_layer, [1,sentences_size - window_size + 1 ,1,1], [1,1,1,1], padding=\"VALID\", name=\"maxpool_layer\")\n",
    "            pool_layer_lst.append(maxpool_layer)\n",
    "\n",
    "    #Dropout层\n",
    "    with tf.name_scope(\"pool_dropout\"):\n",
    "        # 这里最终的结果是这样的，\n",
    "        # 假设卷积核的窗口是 2，卷积核的数量是 8\n",
    "        # 那么通过上面的池化操作之后，生成的池化的结果是一个具有 8 个元素的向量\n",
    "        # 每种窗口大小的卷积核经过池化后都会生成这样一个具有 8 个元素的向量\n",
    "        # 所以最终生成的是一个 8 维的二维矩阵，它的另一个维度就是不同的窗口的数量\n",
    "        # 在这里就是 2,3,4,5，那么最终就是一个 8*4 的矩阵，\n",
    "        pool_layer = tf.concat(pool_layer_lst, 3, name =\"pool_layer\")\n",
    "        max_num = len(window_sizes) * filter_num\n",
    "        # 将这个 8*4 的二维矩阵平铺成一个具有 32 个元素的一维矩阵\n",
    "        pool_layer_flat = tf.reshape(pool_layer , [-1, 1, max_num], name = \"pool_layer_flat\")\n",
    "    \n",
    "        dropout_layer = tf.nn.dropout(pool_layer_flat, dropout_keep_prob, name = \"dropout_layer\")\n",
    "    return pool_layer_flat, dropout_layer"
   ]
  },
  {
   "cell_type": "markdown",
   "metadata": {},
   "source": [
    "#### 将Movie的各个层一起做全连接"
   ]
  },
  {
   "cell_type": "code",
   "execution_count": 22,
   "metadata": {},
   "outputs": [],
   "source": [
    "def get_movie_feature_layer(movie_id_embed_layer, movie_categories_embed_layer, dropout_layer):\n",
    "    with tf.name_scope(\"movie_fc\"):\n",
    "        #第一层全连接\n",
    "        movie_id_fc_layer = tf.layers.dense(movie_id_embed_layer, embed_dim, name = \"movie_id_fc_layer\", activation=tf.nn.relu)\n",
    "        movie_categories_fc_layer = tf.layers.dense(movie_categories_embed_layer, embed_dim, name = \"movie_categories_fc_layer\", activation=tf.nn.relu)\n",
    "    \n",
    "        #第二层全连接\n",
    "        movie_combine_layer = tf.concat([movie_id_fc_layer, movie_categories_fc_layer, dropout_layer], 2)  #(?, 1, 96)\n",
    "        movie_combine_layer = tf.contrib.layers.fully_connected(movie_combine_layer, 200, tf.tanh)  #(?, 1, 200)\n",
    "    \n",
    "        movie_combine_layer_flat = tf.reshape(movie_combine_layer, [-1, 200])\n",
    "    return movie_combine_layer, movie_combine_layer_flat"
   ]
  },
  {
   "cell_type": "markdown",
   "metadata": {},
   "source": [
    "## 构建计算图"
   ]
  },
  {
   "cell_type": "code",
   "execution_count": 23,
   "metadata": {},
   "outputs": [
    {
     "name": "stdout",
     "output_type": "stream",
     "text": [
      "(?, 1, 128)\n",
      "WARNING:tensorflow:From <ipython-input-20-559a1ee9ce9e>:6: calling reduce_sum (from tensorflow.python.ops.math_ops) with keep_dims is deprecated and will be removed in a future version.\n",
      "Instructions for updating:\n",
      "keep_dims is deprecated, use keepdims instead\n"
     ]
    }
   ],
   "source": [
    "# reset_default_graph 操作应该在 tensorflow 的其他所有操作之前进行，否则将会出现不可知的问题\n",
    "# tensorflow 中的 graph 包含的是一系列的操作和使用到这些操作的 tensor\n",
    "tf.reset_default_graph()\n",
    "train_graph = tf.Graph()\n",
    "# Graph 只是当前线程的属性，如果想要在其他的线程使用这个 Graph，那么就要像下面这样指定\n",
    "# 下面的 with 语句将 train_graph 设置为当前线程的默认 graph\n",
    "with train_graph.as_default():\n",
    "    #获取输入占位符\n",
    "    uid, user_gender, user_age, user_job, \\\n",
    "        movie_id, movie_categories, movie_titles, \\\n",
    "            targets, lr, dropout_keep_prob = get_inputs()\n",
    "    #获取User的4个嵌入向量\n",
    "    uid_embed_layer, gender_embed_layer, age_embed_layer, job_embed_layer = get_user_embedding(uid, user_gender, user_age, user_job)\n",
    "    #得到用户特征\n",
    "    user_combine_layer, user_combine_layer_flat = get_user_feature_layer(uid_embed_layer, gender_embed_layer, age_embed_layer, job_embed_layer)\n",
    "    #获取电影ID的嵌入向量\n",
    "    movie_id_embed_layer = get_movie_id_embed_layer(movie_id)\n",
    "    #获取电影类型的嵌入向量\n",
    "    movie_categories_embed_layer = get_movie_categories_layers(movie_categories)\n",
    "    #获取电影名的特征向量\n",
    "    pool_layer_flat, dropout_layer = get_movie_cnn_layer(movie_titles)\n",
    "    #得到电影特征\n",
    "    movie_combine_layer, movie_combine_layer_flat = get_movie_feature_layer(movie_id_embed_layer, \n",
    "                                                                                movie_categories_embed_layer, \n",
    "                                                                                dropout_layer)\n",
    "    #计算出评分，要注意两个不同的方案，inference的名字（name值）是不一样的，后面做推荐时要根据name取得tensor\n",
    "    # tensorflow 的 name_scope 指定了 tensor 范围，方便我们后面调用，通过指定 name_scope 来调用其中的 tensor\n",
    "    with tf.name_scope(\"inference\"):\n",
    "        # 直接将用户特征矩阵和电影特征矩阵相乘得到得分，最后要做的就是对这个得分进行回归\n",
    "        inference = tf.reduce_sum(user_combine_layer_flat * movie_combine_layer_flat, axis=1)\n",
    "        inference = tf.expand_dims(inference, axis=1)\n",
    "\n",
    "    with tf.name_scope(\"loss\"):\n",
    "        # MSE损失，将计算值回归到评分\n",
    "        cost = tf.losses.mean_squared_error(targets, inference )\n",
    "        # 将每个维度的 cost 相加，计算它们的平均值\n",
    "        loss = tf.reduce_mean(cost)\n",
    "    # 优化损失 \n",
    "#     train_op = tf.train.AdamOptimizer(lr).minimize(loss)  #cost\n",
    "# 在为 tensorflow 设置 name 参数的时候，是为了能在 graph 中看到什么变量进行了什么操作\n",
    "    global_step = tf.Variable(0, name=\"global_step\", trainable=False)\n",
    "    optimizer = tf.train.AdamOptimizer(lr)\n",
    "    gradients = optimizer.compute_gradients(loss)  #cost\n",
    "    train_op = optimizer.apply_gradients(gradients, global_step=global_step)\n",
    "    "
   ]
  },
  {
   "cell_type": "markdown",
   "metadata": {},
   "source": [
    "## 取得batch"
   ]
  },
  {
   "cell_type": "code",
   "execution_count": 24,
   "metadata": {},
   "outputs": [],
   "source": [
    "# 自定义获取 batch 的方法\n",
    "def get_batches(Xs, ys, batch_size):\n",
    "    for start in range(0, len(Xs), batch_size):\n",
    "        end = min(start + batch_size, len(Xs))\n",
    "        yield Xs[start:end], ys[start:end]"
   ]
  },
  {
   "cell_type": "markdown",
   "metadata": {},
   "source": [
    "## 训练网络"
   ]
  },
  {
   "cell_type": "code",
   "execution_count": 26,
   "metadata": {
    "scrolled": true
   },
   "outputs": [
    {
     "name": "stdout",
     "output_type": "stream",
     "text": [
      "Writing to D:\\28 machine learning\\08 项目\\八维实训项目\\06 电影推荐\\runs\\1536464228\n",
      "\n",
      "2018-09-09T11:37:16.345670: Epoch   0 Batch    0/3125   train_loss = 14.693\n",
      "2018-09-09T11:37:21.888468: Epoch   0 Batch   50/3125   train_loss = 2.433\n",
      "2018-09-09T11:37:27.553173: Epoch   0 Batch  100/3125   train_loss = 1.901\n",
      "2018-09-09T11:37:32.742170: Epoch   0 Batch  150/3125   train_loss = 1.619\n",
      "2018-09-09T11:37:37.844221: Epoch   0 Batch  200/3125   train_loss = 1.659\n",
      "2018-09-09T11:37:42.679456: Epoch   0 Batch  250/3125   train_loss = 1.419\n",
      "2018-09-09T11:37:47.558608: Epoch   0 Batch  300/3125   train_loss = 1.523\n",
      "2018-09-09T11:37:51.589279: Epoch   0 Batch  350/3125   train_loss = 1.226\n",
      "2018-09-09T11:37:55.622956: Epoch   0 Batch  400/3125   train_loss = 1.270\n",
      "2018-09-09T11:38:00.074384: Epoch   0 Batch  450/3125   train_loss = 1.296\n",
      "2018-09-09T11:38:04.233001: Epoch   0 Batch  500/3125   train_loss = 1.013\n",
      "2018-09-09T11:38:08.460535: Epoch   0 Batch  550/3125   train_loss = 1.213\n",
      "2018-09-09T11:38:12.142406: Epoch   0 Batch  600/3125   train_loss = 1.368\n",
      "2018-09-09T11:38:15.435508: Epoch   0 Batch  650/3125   train_loss = 1.437\n",
      "2018-09-09T11:38:18.864523: Epoch   0 Batch  700/3125   train_loss = 1.280\n",
      "2018-09-09T11:38:21.739866: Epoch   0 Batch  750/3125   train_loss = 1.316\n",
      "2018-09-09T11:38:24.688163: Epoch   0 Batch  800/3125   train_loss = 1.243\n",
      "2018-09-09T11:38:27.584505: Epoch   0 Batch  850/3125   train_loss = 1.366\n",
      "2018-09-09T11:38:30.495823: Epoch   0 Batch  900/3125   train_loss = 1.212\n",
      "2018-09-09T11:38:33.338162: Epoch   0 Batch  950/3125   train_loss = 1.221\n",
      "2018-09-09T11:38:36.265490: Epoch   0 Batch 1000/3125   train_loss = 1.313\n",
      "2018-09-09T11:38:39.075847: Epoch   0 Batch 1050/3125   train_loss = 1.210\n",
      "2018-09-09T11:38:44.298838: Epoch   0 Batch 1100/3125   train_loss = 1.403\n",
      "2018-09-09T11:38:50.313365: Epoch   0 Batch 1150/3125   train_loss = 1.186\n",
      "2018-09-09T11:38:56.067039: Epoch   0 Batch 1200/3125   train_loss = 1.226\n",
      "2018-09-09T11:39:01.507896: Epoch   0 Batch 1250/3125   train_loss = 1.234\n",
      "2018-09-09T11:39:05.802434: Epoch   0 Batch 1300/3125   train_loss = 1.204\n",
      "2018-09-09T11:39:09.133503: Epoch   0 Batch 1350/3125   train_loss = 1.120\n",
      "2018-09-09T11:39:14.443425: Epoch   0 Batch 1400/3125   train_loss = 1.225\n",
      "2018-09-09T11:39:18.179261: Epoch   0 Batch 1450/3125   train_loss = 1.360\n",
      "2018-09-09T11:39:20.902705: Epoch   0 Batch 1500/3125   train_loss = 1.278\n",
      "2018-09-09T11:39:23.576161: Epoch   0 Batch 1550/3125   train_loss = 1.072\n",
      "2018-09-09T11:39:26.160668: Epoch   0 Batch 1600/3125   train_loss = 1.247\n",
      "2018-09-09T11:39:31.047858: Epoch   0 Batch 1650/3125   train_loss = 1.140\n",
      "2018-09-09T11:39:36.661590: Epoch   0 Batch 1700/3125   train_loss = 1.062\n",
      "2018-09-09T11:39:42.101340: Epoch   0 Batch 1750/3125   train_loss = 1.094\n",
      "2018-09-09T11:39:47.741114: Epoch   0 Batch 1800/3125   train_loss = 1.169\n",
      "2018-09-09T11:39:53.398834: Epoch   0 Batch 1850/3125   train_loss = 1.259\n",
      "2018-09-09T11:39:58.607795: Epoch   0 Batch 1900/3125   train_loss = 1.060\n",
      "2018-09-09T11:40:04.270524: Epoch   0 Batch 1950/3125   train_loss = 1.113\n",
      "2018-09-09T11:40:09.093738: Epoch   0 Batch 2000/3125   train_loss = 1.380\n",
      "2018-09-09T11:40:14.031908: Epoch   0 Batch 2050/3125   train_loss = 1.127\n",
      "2018-09-09T11:40:18.393370: Epoch   0 Batch 2100/3125   train_loss = 1.142\n",
      "2018-09-09T11:40:23.491448: Epoch   0 Batch 2150/3125   train_loss = 1.277\n",
      "2018-09-09T11:40:29.286591: Epoch   0 Batch 2200/3125   train_loss = 1.113\n",
      "2018-09-09T11:40:34.474625: Epoch   0 Batch 2250/3125   train_loss = 1.210\n",
      "2018-09-09T11:40:40.260281: Epoch   0 Batch 2300/3125   train_loss = 1.210\n",
      "2018-09-09T11:40:44.929579: Epoch   0 Batch 2350/3125   train_loss = 1.268\n",
      "2018-09-09T11:40:49.038205: Epoch   0 Batch 2400/3125   train_loss = 1.223\n",
      "2018-09-09T11:40:53.197803: Epoch   0 Batch 2450/3125   train_loss = 1.137\n",
      "2018-09-09T11:40:57.312421: Epoch   0 Batch 2500/3125   train_loss = 1.149\n",
      "2018-09-09T11:41:01.662919: Epoch   0 Batch 2550/3125   train_loss = 1.249\n",
      "2018-09-09T11:41:07.278645: Epoch   0 Batch 2600/3125   train_loss = 1.121\n",
      "2018-09-09T11:41:12.791460: Epoch   0 Batch 2650/3125   train_loss = 1.166\n",
      "2018-09-09T11:41:18.606109: Epoch   0 Batch 2700/3125   train_loss = 1.206\n",
      "2018-09-09T11:41:24.047964: Epoch   0 Batch 2750/3125   train_loss = 1.190\n",
      "2018-09-09T11:41:28.500386: Epoch   0 Batch 2800/3125   train_loss = 1.338\n",
      "2018-09-09T11:41:33.748382: Epoch   0 Batch 2850/3125   train_loss = 1.245\n",
      "2018-09-09T11:41:39.396091: Epoch   0 Batch 2900/3125   train_loss = 1.195\n",
      "2018-09-09T11:41:45.605512: Epoch   0 Batch 2950/3125   train_loss = 1.370\n",
      "2018-09-09T11:41:51.770943: Epoch   0 Batch 3000/3125   train_loss = 1.116\n",
      "2018-09-09T11:41:57.916394: Epoch   0 Batch 3050/3125   train_loss = 1.222\n",
      "2018-09-09T11:42:03.986886: Epoch   0 Batch 3100/3125   train_loss = 1.196\n",
      "2018-09-09T11:42:07.547860: Epoch   0 Batch    0/781   test_loss = 0.976\n",
      "2018-09-09T11:42:09.879514: Epoch   0 Batch   50/781   test_loss = 1.151\n",
      "2018-09-09T11:42:11.955293: Epoch   0 Batch  100/781   test_loss = 1.373\n",
      "2018-09-09T11:42:14.098079: Epoch   0 Batch  150/781   test_loss = 1.065\n",
      "2018-09-09T11:42:16.230814: Epoch   0 Batch  200/781   test_loss = 1.190\n",
      "2018-09-09T11:42:18.282633: Epoch   0 Batch  250/781   test_loss = 1.027\n",
      "2018-09-09T11:42:20.379424: Epoch   0 Batch  300/781   test_loss = 1.161\n",
      "2018-09-09T11:42:22.347281: Epoch   0 Batch  350/781   test_loss = 1.170\n",
      "2018-09-09T11:42:24.216208: Epoch   0 Batch  400/781   test_loss = 1.060\n",
      "2018-09-09T11:42:26.111107: Epoch   0 Batch  450/781   test_loss = 0.975\n",
      "2018-09-09T11:42:28.144962: Epoch   0 Batch  500/781   test_loss = 0.938\n",
      "2018-09-09T11:42:30.030843: Epoch   0 Batch  550/781   test_loss = 1.044\n",
      "2018-09-09T11:42:31.876783: Epoch   0 Batch  600/781   test_loss = 1.124\n",
      "2018-09-09T11:42:33.748694: Epoch   0 Batch  650/781   test_loss = 1.102\n",
      "2018-09-09T11:42:35.626615: Epoch   0 Batch  700/781   test_loss = 1.121\n",
      "2018-09-09T11:42:37.515519: Epoch   0 Batch  750/781   test_loss = 1.004\n",
      "2018-09-09T11:42:40.357877: Epoch   1 Batch    0/3125   train_loss = 1.269\n",
      "2018-09-09T11:42:45.859698: Epoch   1 Batch   50/3125   train_loss = 1.285\n",
      "2018-09-09T11:42:51.345560: Epoch   1 Batch  100/3125   train_loss = 1.132\n",
      "2018-09-09T11:42:56.859375: Epoch   1 Batch  150/3125   train_loss = 1.302\n",
      "2018-09-09T11:43:02.009396: Epoch   1 Batch  200/3125   train_loss = 1.316\n",
      "2018-09-09T11:43:07.011503: Epoch   1 Batch  250/3125   train_loss = 1.027\n",
      "2018-09-09T11:43:11.881666: Epoch   1 Batch  300/3125   train_loss = 1.199\n",
      "2018-09-09T11:43:16.963730: Epoch   1 Batch  350/3125   train_loss = 1.022\n",
      "2018-09-09T11:43:21.831924: Epoch   1 Batch  400/3125   train_loss = 1.019\n",
      "2018-09-09T11:43:26.076466: Epoch   1 Batch  450/3125   train_loss = 1.063\n",
      "2018-09-09T11:43:30.024210: Epoch   1 Batch  500/3125   train_loss = 0.824\n",
      "2018-09-09T11:43:34.038867: Epoch   1 Batch  550/3125   train_loss = 1.061\n",
      "2018-09-09T11:43:37.848686: Epoch   1 Batch  600/3125   train_loss = 1.253\n",
      "2018-09-09T11:43:41.006841: Epoch   1 Batch  650/3125   train_loss = 1.133\n",
      "2018-09-09T11:43:44.152024: Epoch   1 Batch  700/3125   train_loss = 1.114\n",
      "2018-09-09T11:43:47.331208: Epoch   1 Batch  750/3125   train_loss = 1.057\n",
      "2018-09-09T11:43:50.147563: Epoch   1 Batch  800/3125   train_loss = 1.027\n",
      "2018-09-09T11:43:52.877983: Epoch   1 Batch  850/3125   train_loss = 1.168\n",
      "2018-09-09T11:43:55.579423: Epoch   1 Batch  900/3125   train_loss = 1.050\n",
      "2018-09-09T11:43:57.984891: Epoch   1 Batch  950/3125   train_loss = 1.057\n",
      "2018-09-09T11:44:00.474439: Epoch   1 Batch 1000/3125   train_loss = 1.141\n",
      "2018-09-09T11:44:02.749138: Epoch   1 Batch 1050/3125   train_loss = 1.022\n",
      "2018-09-09T11:44:05.236685: Epoch   1 Batch 1100/3125   train_loss = 1.156\n",
      "2018-09-09T11:44:07.229442: Epoch   1 Batch 1150/3125   train_loss = 1.011\n",
      "2018-09-09T11:44:09.299261: Epoch   1 Batch 1200/3125   train_loss = 1.071\n",
      "2018-09-09T11:44:13.169065: Epoch   1 Batch 1250/3125   train_loss = 1.060\n",
      "2018-09-09T11:44:18.075252: Epoch   1 Batch 1300/3125   train_loss = 1.003\n",
      "2018-09-09T11:44:22.798523: Epoch   1 Batch 1350/3125   train_loss = 0.999\n",
      "2018-09-09T11:44:28.268335: Epoch   1 Batch 1400/3125   train_loss = 1.047\n",
      "2018-09-09T11:44:34.013047: Epoch   1 Batch 1450/3125   train_loss = 1.126\n",
      "2018-09-09T11:44:39.506874: Epoch   1 Batch 1500/3125   train_loss = 1.083\n",
      "2018-09-09T11:44:44.847759: Epoch   1 Batch 1550/3125   train_loss = 0.971\n",
      "2018-09-09T11:44:50.258663: Epoch   1 Batch 1600/3125   train_loss = 1.080\n",
      "2018-09-09T11:44:55.460658: Epoch   1 Batch 1650/3125   train_loss = 0.969\n",
      "2018-09-09T11:45:00.812544: Epoch   1 Batch 1700/3125   train_loss = 0.924\n",
      "2018-09-09T11:45:07.221841: Epoch   1 Batch 1750/3125   train_loss = 0.911\n",
      "2018-09-09T11:45:13.377306: Epoch   1 Batch 1800/3125   train_loss = 1.020\n",
      "2018-09-09T11:45:19.199945: Epoch   1 Batch 1850/3125   train_loss = 1.109\n",
      "2018-09-09T11:45:25.226445: Epoch   1 Batch 1900/3125   train_loss = 0.906\n",
      "2018-09-09T11:45:31.366892: Epoch   1 Batch 1950/3125   train_loss = 0.938\n",
      "2018-09-09T11:45:37.401403: Epoch   1 Batch 2000/3125   train_loss = 1.228\n",
      "2018-09-09T11:45:43.060130: Epoch   1 Batch 2050/3125   train_loss = 1.032\n",
      "2018-09-09T11:45:47.859382: Epoch   1 Batch 2100/3125   train_loss = 0.962\n",
      "2018-09-09T11:45:52.200851: Epoch   1 Batch 2150/3125   train_loss = 1.073\n",
      "2018-09-09T11:45:56.657277: Epoch   1 Batch 2200/3125   train_loss = 0.937\n",
      "2018-09-09T11:46:01.113707: Epoch   1 Batch 2250/3125   train_loss = 1.120\n",
      "2018-09-09T11:46:05.179373: Epoch   1 Batch 2300/3125   train_loss = 1.045\n",
      "2018-09-09T11:46:08.790267: Epoch   1 Batch 2350/3125   train_loss = 1.080\n",
      "2018-09-09T11:46:12.398187: Epoch   1 Batch 2400/3125   train_loss = 1.061\n",
      "2018-09-09T11:46:15.523382: Epoch   1 Batch 2450/3125   train_loss = 1.030\n",
      "2018-09-09T11:46:18.777497: Epoch   1 Batch 2500/3125   train_loss = 0.953\n",
      "2018-09-09T11:46:21.440980: Epoch   1 Batch 2550/3125   train_loss = 1.096\n",
      "2018-09-09T11:46:24.162387: Epoch   1 Batch 2600/3125   train_loss = 0.981\n",
      "2018-09-09T11:46:27.025732: Epoch   1 Batch 2650/3125   train_loss = 0.994\n",
      "2018-09-09T11:46:30.062981: Epoch   1 Batch 2700/3125   train_loss = 1.034\n",
      "2018-09-09T11:46:33.216158: Epoch   1 Batch 2750/3125   train_loss = 1.063\n",
      "2018-09-09T11:46:36.190456: Epoch   1 Batch 2800/3125   train_loss = 1.197\n",
      "2018-09-09T11:46:39.084766: Epoch   1 Batch 2850/3125   train_loss = 1.034\n",
      "2018-09-09T11:46:41.979113: Epoch   1 Batch 2900/3125   train_loss = 1.014\n",
      "2018-09-09T11:46:44.945380: Epoch   1 Batch 2950/3125   train_loss = 1.212\n",
      "2018-09-09T11:46:47.890683: Epoch   1 Batch 3000/3125   train_loss = 1.004\n",
      "2018-09-09T11:46:51.767448: Epoch   1 Batch 3050/3125   train_loss = 1.035\n",
      "2018-09-09T11:46:57.092372: Epoch   1 Batch 3100/3125   train_loss = 1.135\n",
      "2018-09-09T11:46:59.646917: Epoch   1 Batch    0/781   test_loss = 0.880\n",
      "2018-09-09T11:47:01.690743: Epoch   1 Batch   50/781   test_loss = 1.036\n",
      "2018-09-09T11:47:03.713541: Epoch   1 Batch  100/781   test_loss = 1.229\n",
      "2018-09-09T11:47:05.650452: Epoch   1 Batch  150/781   test_loss = 0.964\n",
      "2018-09-09T11:47:07.551324: Epoch   1 Batch  200/781   test_loss = 1.068\n",
      "2018-09-09T11:47:09.828010: Epoch   1 Batch  250/781   test_loss = 0.921\n",
      "2018-09-09T11:47:11.948813: Epoch   1 Batch  300/781   test_loss = 0.986\n",
      "2018-09-09T11:47:14.003597: Epoch   1 Batch  350/781   test_loss = 1.039\n",
      "2018-09-09T11:47:16.016434: Epoch   1 Batch  400/781   test_loss = 0.956\n",
      "2018-09-09T11:47:18.212175: Epoch   1 Batch  450/781   test_loss = 0.861\n",
      "2018-09-09T11:47:20.286967: Epoch   1 Batch  500/781   test_loss = 0.833\n",
      "2018-09-09T11:47:22.310802: Epoch   1 Batch  550/781   test_loss = 0.984\n",
      "2018-09-09T11:47:24.348621: Epoch   1 Batch  600/781   test_loss = 1.039\n",
      "2018-09-09T11:47:26.610315: Epoch   1 Batch  650/781   test_loss = 0.939\n",
      "2018-09-09T11:47:28.728121: Epoch   1 Batch  700/781   test_loss = 0.988\n",
      "2018-09-09T11:47:30.809919: Epoch   1 Batch  750/781   test_loss = 0.907\n",
      "2018-09-09T11:47:33.824177: Epoch   2 Batch    0/3125   train_loss = 1.133\n",
      "2018-09-09T11:47:39.705749: Epoch   2 Batch   50/3125   train_loss = 1.125\n",
      "2018-09-09T11:47:45.190609: Epoch   2 Batch  100/3125   train_loss = 1.037\n",
      "2018-09-09T11:47:50.275642: Epoch   2 Batch  150/3125   train_loss = 1.149\n",
      "2018-09-09T11:47:55.131866: Epoch   2 Batch  200/3125   train_loss = 1.227\n",
      "2018-09-09T11:47:59.498316: Epoch   2 Batch  250/3125   train_loss = 0.869\n",
      "2018-09-09T11:48:03.667931: Epoch   2 Batch  300/3125   train_loss = 1.153\n",
      "2018-09-09T11:48:07.748551: Epoch   2 Batch  350/3125   train_loss = 0.929\n",
      "2018-09-09T11:48:11.935155: Epoch   2 Batch  400/3125   train_loss = 0.928\n",
      "2018-09-09T11:48:15.979800: Epoch   2 Batch  450/3125   train_loss = 0.917\n",
      "2018-09-09T11:48:20.196366: Epoch   2 Batch  500/3125   train_loss = 0.735\n",
      "2018-09-09T11:48:24.569833: Epoch   2 Batch  550/3125   train_loss = 0.964\n",
      "2018-09-09T11:48:28.856356: Epoch   2 Batch  600/3125   train_loss = 1.069\n",
      "2018-09-09T11:48:32.595196: Epoch   2 Batch  650/3125   train_loss = 1.018\n",
      "2018-09-09T11:48:36.154140: Epoch   2 Batch  700/3125   train_loss = 0.983\n",
      "2018-09-09T11:48:39.805052: Epoch   2 Batch  750/3125   train_loss = 0.941\n",
      "2018-09-09T11:48:43.335010: Epoch   2 Batch  800/3125   train_loss = 0.930\n",
      "2018-09-09T11:48:46.023053: Epoch   2 Batch  850/3125   train_loss = 1.046\n",
      "2018-09-09T11:48:48.628831: Epoch   2 Batch  900/3125   train_loss = 0.964\n",
      "2018-09-09T11:48:51.247095: Epoch   2 Batch  950/3125   train_loss = 0.929\n",
      "2018-09-09T11:48:55.471656: Epoch   2 Batch 1000/3125   train_loss = 1.062\n",
      "2018-09-09T11:49:01.119906: Epoch   2 Batch 1050/3125   train_loss = 0.932\n",
      "2018-09-09T11:49:07.336314: Epoch   2 Batch 1100/3125   train_loss = 1.010\n",
      "2018-09-09T11:49:12.782167: Epoch   2 Batch 1150/3125   train_loss = 0.889\n",
      "2018-09-09T11:49:15.754468: Epoch   2 Batch 1200/3125   train_loss = 1.025\n",
      "2018-09-09T11:49:18.428905: Epoch   2 Batch 1250/3125   train_loss = 1.001\n",
      "2018-09-09T11:49:21.382628: Epoch   2 Batch 1300/3125   train_loss = 0.877\n",
      "2018-09-09T11:49:26.569631: Epoch   2 Batch 1350/3125   train_loss = 0.897\n",
      "2018-09-09T11:49:31.811573: Epoch   2 Batch 1400/3125   train_loss = 0.965\n",
      "2018-09-09T11:49:37.156673: Epoch   2 Batch 1450/3125   train_loss = 0.982\n",
      "2018-09-09T11:49:42.385681: Epoch   2 Batch 1500/3125   train_loss = 0.982\n",
      "2018-09-09T11:49:47.589645: Epoch   2 Batch 1550/3125   train_loss = 0.888\n",
      "2018-09-09T11:49:52.715690: Epoch   2 Batch 1600/3125   train_loss = 0.907\n",
      "2018-09-09T11:49:57.820176: Epoch   2 Batch 1650/3125   train_loss = 0.848\n",
      "2018-09-09T11:50:03.296592: Epoch   2 Batch 1700/3125   train_loss = 0.878\n",
      "2018-09-09T11:50:09.000327: Epoch   2 Batch 1750/3125   train_loss = 0.838\n",
      "2018-09-09T11:50:15.142779: Epoch   2 Batch 1800/3125   train_loss = 0.941\n",
      "2018-09-09T11:50:20.957420: Epoch   2 Batch 1850/3125   train_loss = 0.991\n",
      "2018-09-09T11:50:27.007902: Epoch   2 Batch 1900/3125   train_loss = 0.843\n",
      "2018-09-09T11:50:31.461322: Epoch   2 Batch 1950/3125   train_loss = 0.866\n",
      "2018-09-09T11:50:35.444021: Epoch   2 Batch 2000/3125   train_loss = 1.116\n",
      "2018-09-09T11:50:41.001818: Epoch   2 Batch 2050/3125   train_loss = 0.966\n",
      "2018-09-09T11:50:46.503633: Epoch   2 Batch 2100/3125   train_loss = 0.880\n",
      "2018-09-09T11:50:51.982498: Epoch   2 Batch 2150/3125   train_loss = 0.971\n",
      "2018-09-09T11:50:57.704163: Epoch   2 Batch 2200/3125   train_loss = 0.855\n",
      "2018-09-09T11:51:02.446422: Epoch   2 Batch 2250/3125   train_loss = 1.062\n",
      "2018-09-09T11:51:06.996800: Epoch   2 Batch 2300/3125   train_loss = 0.950\n",
      "2018-09-09T11:51:11.604156: Epoch   2 Batch 2350/3125   train_loss = 0.992\n",
      "2018-09-09T11:51:16.011587: Epoch   2 Batch 2400/3125   train_loss = 0.994\n",
      "2018-09-09T11:51:20.698879: Epoch   2 Batch 2450/3125   train_loss = 0.933\n",
      "2018-09-09T11:51:25.371180: Epoch   2 Batch 2500/3125   train_loss = 0.851\n",
      "2018-09-09T11:51:29.814637: Epoch   2 Batch 2550/3125   train_loss = 1.000\n",
      "2018-09-09T11:51:34.622866: Epoch   2 Batch 2600/3125   train_loss = 0.937\n",
      "2018-09-09T11:51:41.027136: Epoch   2 Batch 2650/3125   train_loss = 0.914\n",
      "2018-09-09T11:51:47.225587: Epoch   2 Batch 2700/3125   train_loss = 1.003\n",
      "2018-09-09T11:51:52.601478: Epoch   2 Batch 2750/3125   train_loss = 1.027\n",
      "2018-09-09T11:51:57.842422: Epoch   2 Batch 2800/3125   train_loss = 1.081\n",
      "2018-09-09T11:52:03.071430: Epoch   2 Batch 2850/3125   train_loss = 0.997\n",
      "2018-09-09T11:52:09.159886: Epoch   2 Batch 2900/3125   train_loss = 0.926\n"
     ]
    },
    {
     "name": "stdout",
     "output_type": "stream",
     "text": [
      "2018-09-09T11:52:15.369299: Epoch   2 Batch 2950/3125   train_loss = 1.140\n",
      "2018-09-09T11:52:21.220926: Epoch   2 Batch 3000/3125   train_loss = 0.941\n",
      "2018-09-09T11:52:27.087529: Epoch   2 Batch 3050/3125   train_loss = 0.934\n",
      "2018-09-09T11:52:33.204996: Epoch   2 Batch 3100/3125   train_loss = 1.075\n",
      "2018-09-09T11:52:35.903439: Epoch   2 Batch    0/781   test_loss = 0.839\n",
      "2018-09-09T11:52:37.939263: Epoch   2 Batch   50/781   test_loss = 0.953\n",
      "2018-09-09T11:52:39.969088: Epoch   2 Batch  100/781   test_loss = 1.143\n",
      "2018-09-09T11:52:42.016907: Epoch   2 Batch  150/781   test_loss = 0.917\n",
      "2018-09-09T11:52:44.002760: Epoch   2 Batch  200/781   test_loss = 1.005\n",
      "2018-09-09T11:52:45.889668: Epoch   2 Batch  250/781   test_loss = 0.864\n",
      "2018-09-09T11:52:47.784576: Epoch   2 Batch  300/781   test_loss = 0.895\n",
      "2018-09-09T11:52:49.630538: Epoch   2 Batch  350/781   test_loss = 0.972\n",
      "2018-09-09T11:52:51.610372: Epoch   2 Batch  400/781   test_loss = 0.902\n",
      "2018-09-09T11:52:53.513277: Epoch   2 Batch  450/781   test_loss = 0.832\n",
      "2018-09-09T11:52:55.409169: Epoch   2 Batch  500/781   test_loss = 0.788\n",
      "2018-09-09T11:52:57.267098: Epoch   2 Batch  550/781   test_loss = 0.939\n",
      "2018-09-09T11:52:59.149009: Epoch   2 Batch  600/781   test_loss = 0.974\n",
      "2018-09-09T11:53:01.130864: Epoch   2 Batch  650/781   test_loss = 0.846\n",
      "2018-09-09T11:53:03.358578: Epoch   2 Batch  700/781   test_loss = 0.920\n",
      "2018-09-09T11:53:05.530325: Epoch   2 Batch  750/781   test_loss = 0.858\n",
      "2018-09-09T11:53:08.644523: Epoch   3 Batch    0/3125   train_loss = 1.076\n",
      "2018-09-09T11:53:14.208316: Epoch   3 Batch   50/3125   train_loss = 0.987\n",
      "2018-09-09T11:53:19.748110: Epoch   3 Batch  100/3125   train_loss = 0.975\n",
      "2018-09-09T11:53:25.222977: Epoch   3 Batch  150/3125   train_loss = 1.058\n",
      "2018-09-09T11:53:30.755781: Epoch   3 Batch  200/3125   train_loss = 1.133\n",
      "2018-09-09T11:53:36.377503: Epoch   3 Batch  250/3125   train_loss = 0.804\n",
      "2018-09-09T11:53:41.529533: Epoch   3 Batch  300/3125   train_loss = 1.082\n",
      "2018-09-09T11:53:46.493687: Epoch   3 Batch  350/3125   train_loss = 0.863\n",
      "2018-09-09T11:53:51.447804: Epoch   3 Batch  400/3125   train_loss = 0.859\n",
      "2018-09-09T11:53:56.355969: Epoch   3 Batch  450/3125   train_loss = 0.881\n",
      "2018-09-09T11:54:01.353079: Epoch   3 Batch  500/3125   train_loss = 0.692\n",
      "2018-09-09T11:54:05.970431: Epoch   3 Batch  550/3125   train_loss = 0.906\n",
      "2018-09-09T11:54:10.097025: Epoch   3 Batch  600/3125   train_loss = 0.965\n",
      "2018-09-09T11:54:14.053739: Epoch   3 Batch  650/3125   train_loss = 0.960\n",
      "2018-09-09T11:54:17.435804: Epoch   3 Batch  700/3125   train_loss = 0.932\n",
      "2018-09-09T11:54:20.849833: Epoch   3 Batch  750/3125   train_loss = 0.886\n",
      "2018-09-09T11:54:24.137933: Epoch   3 Batch  800/3125   train_loss = 0.866\n",
      "2018-09-09T11:54:28.210591: Epoch   3 Batch  850/3125   train_loss = 1.031\n",
      "2018-09-09T11:54:33.432305: Epoch   3 Batch  900/3125   train_loss = 0.916\n",
      "2018-09-09T11:54:38.743267: Epoch   3 Batch  950/3125   train_loss = 0.873\n",
      "2018-09-09T11:54:44.338004: Epoch   3 Batch 1000/3125   train_loss = 1.011\n",
      "2018-09-09T11:54:49.950793: Epoch   3 Batch 1050/3125   train_loss = 0.866\n",
      "2018-09-09T11:54:55.525573: Epoch   3 Batch 1100/3125   train_loss = 0.944\n",
      "2018-09-09T11:55:00.845474: Epoch   3 Batch 1150/3125   train_loss = 0.858\n",
      "2018-09-09T11:55:06.687101: Epoch   3 Batch 1200/3125   train_loss = 0.994\n",
      "2018-09-09T11:55:12.930720: Epoch   3 Batch 1250/3125   train_loss = 0.953\n",
      "2018-09-09T11:55:19.102180: Epoch   3 Batch 1300/3125   train_loss = 0.823\n",
      "2018-09-09T11:55:25.108679: Epoch   3 Batch 1350/3125   train_loss = 0.861\n",
      "2018-09-09T11:55:31.181171: Epoch   3 Batch 1400/3125   train_loss = 0.928\n",
      "2018-09-09T11:55:37.272665: Epoch   3 Batch 1450/3125   train_loss = 0.926\n",
      "2018-09-09T11:55:43.123279: Epoch   3 Batch 1500/3125   train_loss = 0.905\n",
      "2018-09-09T11:55:49.305703: Epoch   3 Batch 1550/3125   train_loss = 0.835\n",
      "2018-09-09T11:55:55.253297: Epoch   3 Batch 1600/3125   train_loss = 0.835\n",
      "2018-09-09T11:56:01.392719: Epoch   3 Batch 1650/3125   train_loss = 0.804\n",
      "2018-09-09T11:56:07.308302: Epoch   3 Batch 1700/3125   train_loss = 0.821\n",
      "2018-09-09T11:56:12.717177: Epoch   3 Batch 1750/3125   train_loss = 0.806\n",
      "2018-09-09T11:56:17.464459: Epoch   3 Batch 1800/3125   train_loss = 0.867\n",
      "2018-09-09T11:56:21.860920: Epoch   3 Batch 1850/3125   train_loss = 0.918\n",
      "2018-09-09T11:56:26.094474: Epoch   3 Batch 1900/3125   train_loss = 0.803\n",
      "2018-09-09T11:56:29.853299: Epoch   3 Batch 1950/3125   train_loss = 0.818\n",
      "2018-09-09T11:56:33.290314: Epoch   3 Batch 2000/3125   train_loss = 1.023\n",
      "2018-09-09T11:56:36.612373: Epoch   3 Batch 2050/3125   train_loss = 0.910\n",
      "2018-09-09T11:56:39.430764: Epoch   3 Batch 2100/3125   train_loss = 0.854\n",
      "2018-09-09T11:56:42.301106: Epoch   3 Batch 2150/3125   train_loss = 0.945\n",
      "2018-09-09T11:56:45.606209: Epoch   3 Batch 2200/3125   train_loss = 0.826\n",
      "2018-09-09T11:56:51.571763: Epoch   3 Batch 2250/3125   train_loss = 1.038\n",
      "2018-09-09T11:56:57.470326: Epoch   3 Batch 2300/3125   train_loss = 0.906\n",
      "2018-09-09T11:57:03.391935: Epoch   3 Batch 2350/3125   train_loss = 0.952\n",
      "2018-09-09T11:57:09.615340: Epoch   3 Batch 2400/3125   train_loss = 0.941\n",
      "2018-09-09T11:57:15.488916: Epoch   3 Batch 2450/3125   train_loss = 0.903\n",
      "2018-09-09T11:57:21.484482: Epoch   3 Batch 2500/3125   train_loss = 0.818\n",
      "2018-09-09T11:57:27.358091: Epoch   3 Batch 2550/3125   train_loss = 0.975\n",
      "2018-09-09T11:57:33.107744: Epoch   3 Batch 2600/3125   train_loss = 0.891\n",
      "2018-09-09T11:57:39.116299: Epoch   3 Batch 2650/3125   train_loss = 0.842\n",
      "2018-09-09T11:57:45.174799: Epoch   3 Batch 2700/3125   train_loss = 0.938\n",
      "2018-09-09T11:57:51.092358: Epoch   3 Batch 2750/3125   train_loss = 0.987\n",
      "2018-09-09T11:57:56.640173: Epoch   3 Batch 2800/3125   train_loss = 1.025\n",
      "2018-09-09T11:58:01.890140: Epoch   3 Batch 2850/3125   train_loss = 0.935\n",
      "2018-09-09T11:58:06.605389: Epoch   3 Batch 2900/3125   train_loss = 0.892\n",
      "2018-09-09T11:58:10.982860: Epoch   3 Batch 2950/3125   train_loss = 1.057\n",
      "2018-09-09T11:58:15.510243: Epoch   3 Batch 3000/3125   train_loss = 0.908\n",
      "2018-09-09T11:58:19.987663: Epoch   3 Batch 3050/3125   train_loss = 0.861\n",
      "2018-09-09T11:58:25.543456: Epoch   3 Batch 3100/3125   train_loss = 1.062\n",
      "2018-09-09T11:58:28.705653: Epoch   3 Batch    0/781   test_loss = 0.817\n",
      "2018-09-09T11:58:30.787420: Epoch   3 Batch   50/781   test_loss = 0.906\n",
      "2018-09-09T11:58:32.828248: Epoch   3 Batch  100/781   test_loss = 1.103\n",
      "2018-09-09T11:58:34.876059: Epoch   3 Batch  150/781   test_loss = 0.896\n",
      "2018-09-09T11:58:36.852925: Epoch   3 Batch  200/781   test_loss = 0.965\n",
      "2018-09-09T11:58:38.867752: Epoch   3 Batch  250/781   test_loss = 0.834\n",
      "2018-09-09T11:58:40.837644: Epoch   3 Batch  300/781   test_loss = 0.852\n",
      "2018-09-09T11:58:42.782491: Epoch   3 Batch  350/781   test_loss = 0.935\n",
      "2018-09-09T11:58:44.896276: Epoch   3 Batch  400/781   test_loss = 0.873\n",
      "2018-09-09T11:58:47.096999: Epoch   3 Batch  450/781   test_loss = 0.810\n",
      "2018-09-09T11:58:49.136850: Epoch   3 Batch  500/781   test_loss = 0.770\n",
      "2018-09-09T11:58:51.070712: Epoch   3 Batch  550/781   test_loss = 0.902\n",
      "2018-09-09T11:58:53.018578: Epoch   3 Batch  600/781   test_loss = 0.942\n",
      "2018-09-09T11:58:54.898522: Epoch   3 Batch  650/781   test_loss = 0.793\n",
      "2018-09-09T11:58:56.909339: Epoch   3 Batch  700/781   test_loss = 0.887\n",
      "2018-09-09T11:58:58.839246: Epoch   3 Batch  750/781   test_loss = 0.838\n",
      "2018-09-09T11:59:01.922465: Epoch   4 Batch    0/3125   train_loss = 1.060\n",
      "2018-09-09T11:59:07.716095: Epoch   4 Batch   50/3125   train_loss = 0.950\n",
      "2018-09-09T11:59:12.081588: Epoch   4 Batch  100/3125   train_loss = 0.930\n",
      "2018-09-09T11:59:15.436627: Epoch   4 Batch  150/3125   train_loss = 0.990\n",
      "2018-09-09T11:59:19.662218: Epoch   4 Batch  200/3125   train_loss = 1.104\n",
      "2018-09-09T11:59:24.880173: Epoch   4 Batch  250/3125   train_loss = 0.788\n",
      "2018-09-09T11:59:30.045238: Epoch   4 Batch  300/3125   train_loss = 1.064\n",
      "2018-09-09T11:59:35.531170: Epoch   4 Batch  350/3125   train_loss = 0.842\n",
      "2018-09-09T11:59:40.992773: Epoch   4 Batch  400/3125   train_loss = 0.843\n",
      "2018-09-09T11:59:46.631625: Epoch   4 Batch  450/3125   train_loss = 0.830\n",
      "2018-09-09T11:59:52.030507: Epoch   4 Batch  500/3125   train_loss = 0.676\n",
      "2018-09-09T11:59:57.199937: Epoch   4 Batch  550/3125   train_loss = 0.885\n",
      "2018-09-09T12:00:02.865113: Epoch   4 Batch  600/3125   train_loss = 0.911\n",
      "2018-09-09T12:00:08.289971: Epoch   4 Batch  650/3125   train_loss = 0.909\n",
      "2018-09-09T12:00:13.592935: Epoch   4 Batch  700/3125   train_loss = 0.897\n",
      "2018-09-09T12:00:17.922412: Epoch   4 Batch  750/3125   train_loss = 0.849\n",
      "2018-09-09T12:00:21.787198: Epoch   4 Batch  800/3125   train_loss = 0.832\n",
      "2018-09-09T12:00:25.698915: Epoch   4 Batch  850/3125   train_loss = 0.974\n",
      "2018-09-09T12:00:29.957454: Epoch   4 Batch  900/3125   train_loss = 0.874\n",
      "2018-09-09T12:00:34.690721: Epoch   4 Batch  950/3125   train_loss = 0.854\n",
      "2018-09-09T12:00:39.339034: Epoch   4 Batch 1000/3125   train_loss = 0.991\n",
      "2018-09-09T12:00:43.996369: Epoch   4 Batch 1050/3125   train_loss = 0.835\n",
      "2018-09-09T12:00:47.893117: Epoch   4 Batch 1100/3125   train_loss = 0.868\n",
      "2018-09-09T12:00:51.833816: Epoch   4 Batch 1150/3125   train_loss = 0.831\n",
      "2018-09-09T12:00:55.765548: Epoch   4 Batch 1200/3125   train_loss = 0.978\n",
      "2018-09-09T12:00:59.661300: Epoch   4 Batch 1250/3125   train_loss = 0.903\n",
      "2018-09-09T12:01:03.586029: Epoch   4 Batch 1300/3125   train_loss = 0.794\n",
      "2018-09-09T12:01:07.659699: Epoch   4 Batch 1350/3125   train_loss = 0.840\n",
      "2018-09-09T12:01:11.903240: Epoch   4 Batch 1400/3125   train_loss = 0.892\n",
      "2018-09-09T12:01:15.973900: Epoch   4 Batch 1450/3125   train_loss = 0.920\n",
      "2018-09-09T12:01:20.854053: Epoch   4 Batch 1500/3125   train_loss = 0.869\n",
      "2018-09-09T12:01:25.341485: Epoch   4 Batch 1550/3125   train_loss = 0.820\n",
      "2018-09-09T12:01:29.212226: Epoch   4 Batch 1600/3125   train_loss = 0.788\n",
      "2018-09-09T12:01:33.998489: Epoch   4 Batch 1650/3125   train_loss = 0.765\n",
      "2018-09-09T12:01:39.429331: Epoch   4 Batch 1700/3125   train_loss = 0.790\n",
      "2018-09-09T12:01:44.391484: Epoch   4 Batch 1750/3125   train_loss = 0.771\n",
      "2018-09-09T12:01:48.588056: Epoch   4 Batch 1800/3125   train_loss = 0.830\n",
      "2018-09-09T12:01:52.457797: Epoch   4 Batch 1850/3125   train_loss = 0.876\n",
      "2018-09-09T12:01:56.369538: Epoch   4 Batch 1900/3125   train_loss = 0.758\n",
      "2018-09-09T12:02:00.275281: Epoch   4 Batch 1950/3125   train_loss = 0.810\n",
      "2018-09-09T12:02:04.453869: Epoch   4 Batch 2000/3125   train_loss = 1.000\n",
      "2018-09-09T12:02:09.971707: Epoch   4 Batch 2050/3125   train_loss = 0.928\n",
      "2018-09-09T12:02:14.769936: Epoch   4 Batch 2100/3125   train_loss = 0.819\n",
      "2018-09-09T12:02:19.785043: Epoch   4 Batch 2150/3125   train_loss = 0.897\n",
      "2018-09-09T12:02:24.992032: Epoch   4 Batch 2200/3125   train_loss = 0.812\n",
      "2018-09-09T12:02:29.810226: Epoch   4 Batch 2250/3125   train_loss = 1.001\n",
      "2018-09-09T12:02:34.238662: Epoch   4 Batch 2300/3125   train_loss = 0.865\n",
      "2018-09-09T12:02:38.658116: Epoch   4 Batch 2350/3125   train_loss = 0.906\n",
      "2018-09-09T12:02:43.988030: Epoch   4 Batch 2400/3125   train_loss = 0.916\n",
      "2018-09-09T12:02:49.418923: Epoch   4 Batch 2450/3125   train_loss = 0.867\n",
      "2018-09-09T12:02:54.648902: Epoch   4 Batch 2500/3125   train_loss = 0.794\n",
      "2018-09-09T12:02:59.930850: Epoch   4 Batch 2550/3125   train_loss = 0.949\n",
      "2018-09-09T12:03:04.961941: Epoch   4 Batch 2600/3125   train_loss = 0.861\n",
      "2018-09-09T12:03:09.089529: Epoch   4 Batch 2650/3125   train_loss = 0.800\n",
      "2018-09-09T12:03:13.017284: Epoch   4 Batch 2700/3125   train_loss = 0.896\n",
      "2018-09-09T12:03:16.875032: Epoch   4 Batch 2750/3125   train_loss = 0.981\n",
      "2018-09-09T12:03:20.705843: Epoch   4 Batch 2800/3125   train_loss = 1.005\n",
      "2018-09-09T12:03:23.881005: Epoch   4 Batch 2850/3125   train_loss = 0.915\n",
      "2018-09-09T12:03:26.913233: Epoch   4 Batch 2900/3125   train_loss = 0.882\n",
      "2018-09-09T12:03:29.971466: Epoch   4 Batch 2950/3125   train_loss = 1.045\n",
      "2018-09-09T12:03:33.096681: Epoch   4 Batch 3000/3125   train_loss = 0.911\n",
      "2018-09-09T12:03:38.049801: Epoch   4 Batch 3050/3125   train_loss = 0.842\n",
      "2018-09-09T12:03:43.644577: Epoch   4 Batch 3100/3125   train_loss = 1.048\n",
      "2018-09-09T12:03:46.478933: Epoch   4 Batch    0/781   test_loss = 0.809\n",
      "2018-09-09T12:03:48.409822: Epoch   4 Batch   50/781   test_loss = 0.874\n",
      "2018-09-09T12:03:50.300732: Epoch   4 Batch  100/781   test_loss = 1.075\n",
      "2018-09-09T12:03:52.132696: Epoch   4 Batch  150/781   test_loss = 0.886\n",
      "2018-09-09T12:03:53.993599: Epoch   4 Batch  200/781   test_loss = 0.939\n",
      "2018-09-09T12:03:55.811542: Epoch   4 Batch  250/781   test_loss = 0.819\n",
      "2018-09-09T12:03:57.631496: Epoch   4 Batch  300/781   test_loss = 0.827\n",
      "2018-09-09T12:03:59.464431: Epoch   4 Batch  350/781   test_loss = 0.910\n",
      "2018-09-09T12:04:01.336358: Epoch   4 Batch  400/781   test_loss = 0.849\n",
      "2018-09-09T12:04:03.149301: Epoch   4 Batch  450/781   test_loss = 0.795\n",
      "2018-09-09T12:04:04.988270: Epoch   4 Batch  500/781   test_loss = 0.756\n",
      "2018-09-09T12:04:06.791199: Epoch   4 Batch  550/781   test_loss = 0.881\n",
      "2018-09-09T12:04:08.592187: Epoch   4 Batch  600/781   test_loss = 0.922\n",
      "2018-09-09T12:04:10.435095: Epoch   4 Batch  650/781   test_loss = 0.763\n",
      "2018-09-09T12:04:12.292028: Epoch   4 Batch  700/781   test_loss = 0.874\n",
      "2018-09-09T12:04:14.130958: Epoch   4 Batch  750/781   test_loss = 0.825\n",
      "Model Trained and Saved\n"
     ]
    }
   ],
   "source": [
    "%matplotlib inline\n",
    "%config InlineBackend.figure_format = 'retina'\n",
    "import matplotlib.pyplot as plt\n",
    "import time\n",
    "import datetime\n",
    "\n",
    "losses = {'train':[], 'test':[]}\n",
    "\n",
    "with tf.Session(graph=train_graph) as sess:\n",
    "    \n",
    "    #搜集数据给tensorBoard用\n",
    "    # Keep track of gradient values and sparsity\n",
    "    grad_summaries = []\n",
    "    for g, v in gradients:\n",
    "        if g is not None:\n",
    "            grad_hist_summary = tf.summary.histogram(\"{}/grad/hist\".format(v.name.replace(':', '_')), g)\n",
    "            # tf.nn.zero_fraction 用于计算矩阵中 0 所占的比重，也就是计算矩阵的稀疏程度\n",
    "            sparsity_summary = tf.summary.scalar(\"{}/grad/sparsity\".format(v.name.replace(':', '_')), tf.nn.zero_fraction(g))\n",
    "            grad_summaries.append(grad_hist_summary)\n",
    "            grad_summaries.append(sparsity_summary)\n",
    "    grad_summaries_merged = tf.summary.merge(grad_summaries)\n",
    "        \n",
    "    # Output directory for models and summaries\n",
    "    timestamp = str(int(time.time()))\n",
    "    out_dir = os.path.abspath(os.path.join(os.path.curdir, \"runs\", timestamp))\n",
    "    print(\"Writing to {}\\n\".format(out_dir))\n",
    "     \n",
    "    # Summaries for loss and accuracy\n",
    "    loss_summary = tf.summary.scalar(\"loss\", loss)\n",
    "\n",
    "    # Train Summaries\n",
    "    train_summary_op = tf.summary.merge([loss_summary, grad_summaries_merged])\n",
    "    train_summary_dir = os.path.join(out_dir, \"summaries\", \"train\")\n",
    "    train_summary_writer = tf.summary.FileWriter(train_summary_dir, sess.graph)\n",
    "\n",
    "    # Inference summaries\n",
    "    inference_summary_op = tf.summary.merge([loss_summary])\n",
    "    inference_summary_dir = os.path.join(out_dir, \"summaries\", \"inference\")\n",
    "    inference_summary_writer = tf.summary.FileWriter(inference_summary_dir, sess.graph)\n",
    "\n",
    "    sess.run(tf.global_variables_initializer())\n",
    "    saver = tf.train.Saver()\n",
    "    for epoch_i in range(num_epochs):\n",
    "        \n",
    "        #将数据集分成训练集和测试集，随机种子不固定\n",
    "        train_X,test_X, train_y, test_y = train_test_split(features,  \n",
    "                                                           targets_values,  \n",
    "                                                           test_size = 0.2,  \n",
    "                                                           random_state = 0)  \n",
    "        \n",
    "        train_batches = get_batches(train_X, train_y, batch_size)\n",
    "        test_batches = get_batches(test_X, test_y, batch_size)\n",
    "    \n",
    "        #训练的迭代，保存训练损失\n",
    "        for batch_i in range(len(train_X) // batch_size):\n",
    "            x, y = next(train_batches)\n",
    "\n",
    "            categories = np.zeros([batch_size, 18])\n",
    "            for i in range(batch_size):\n",
    "                categories[i] = x.take(6,1)[i]\n",
    "\n",
    "            titles = np.zeros([batch_size, sentences_size])\n",
    "            for i in range(batch_size):\n",
    "                titles[i] = x.take(5,1)[i]\n",
    "\n",
    "            feed = {\n",
    "                uid: np.reshape(x.take(0,1), [batch_size, 1]),\n",
    "                user_gender: np.reshape(x.take(2,1), [batch_size, 1]),\n",
    "                user_age: np.reshape(x.take(3,1), [batch_size, 1]),\n",
    "                user_job: np.reshape(x.take(4,1), [batch_size, 1]),\n",
    "                movie_id: np.reshape(x.take(1,1), [batch_size, 1]),\n",
    "                movie_categories: categories,  #x.take(6,1)\n",
    "                movie_titles: titles,  #x.take(5,1)\n",
    "                targets: np.reshape(y, [batch_size, 1]),\n",
    "                dropout_keep_prob: dropout_keep, #dropout_keep\n",
    "                lr: learning_rate}\n",
    "\n",
    "            step, train_loss, summaries, _ = sess.run([global_step, loss, train_summary_op, train_op], feed)  #cost\n",
    "            losses['train'].append(train_loss)\n",
    "            train_summary_writer.add_summary(summaries, step)  #\n",
    "            \n",
    "            # Show every <show_every_n_batches> batches\n",
    "            if batch_i % show_every_n_batches == 0:\n",
    "                time_str = datetime.datetime.now().isoformat()\n",
    "                print('{}: Epoch {:>3} Batch {:>4}/{}   train_loss = {:.3f}'.format(\n",
    "                    time_str,\n",
    "                    epoch_i,\n",
    "                    batch_i,\n",
    "                    (len(train_X) // batch_size),\n",
    "                    train_loss))\n",
    "                \n",
    "        #使用测试数据的迭代\n",
    "        for batch_i  in range(len(test_X) // batch_size):\n",
    "            x, y = next(test_batches)\n",
    "            \n",
    "            categories = np.zeros([batch_size, 18])\n",
    "            for i in range(batch_size):\n",
    "                categories[i] = x.take(6,1)[i]\n",
    "\n",
    "            titles = np.zeros([batch_size, sentences_size])\n",
    "            for i in range(batch_size):\n",
    "                titles[i] = x.take(5,1)[i]\n",
    "\n",
    "            feed = {\n",
    "                uid: np.reshape(x.take(0,1), [batch_size, 1]),\n",
    "                user_gender: np.reshape(x.take(2,1), [batch_size, 1]),\n",
    "                user_age: np.reshape(x.take(3,1), [batch_size, 1]),\n",
    "                user_job: np.reshape(x.take(4,1), [batch_size, 1]),\n",
    "                movie_id: np.reshape(x.take(1,1), [batch_size, 1]),\n",
    "                movie_categories: categories,  #x.take(6,1)\n",
    "                movie_titles: titles,  #x.take(5,1)\n",
    "                targets: np.reshape(y, [batch_size, 1]),\n",
    "                dropout_keep_prob: 1,\n",
    "                lr: learning_rate}\n",
    "            \n",
    "            step, test_loss, summaries = sess.run([global_step, loss, inference_summary_op], feed)  #cost\n",
    "\n",
    "            #保存测试损失\n",
    "            losses['test'].append(test_loss)\n",
    "            inference_summary_writer.add_summary(summaries, step)  #\n",
    "\n",
    "            time_str = datetime.datetime.now().isoformat()\n",
    "            if batch_i % show_every_n_batches == 0:\n",
    "                print('{}: Epoch {:>3} Batch {:>4}/{}   test_loss = {:.3f}'.format(\n",
    "                    time_str,\n",
    "                    epoch_i,\n",
    "                    batch_i,\n",
    "                    (len(test_X) // batch_size),\n",
    "                    test_loss))\n",
    "\n",
    "    # Save Model\n",
    "    saver.save(sess, save_dir)  #, global_step=epoch_i\n",
    "    print('Model Trained and Saved')\n"
   ]
  },
  {
   "cell_type": "markdown",
   "metadata": {},
   "source": [
    "## 在 TensorBoard 中查看可视化结果"
   ]
  },
  {
   "cell_type": "markdown",
   "metadata": {},
   "source": [
    "tensorboard --logdir /PATH_TO_CODE/runs/1513402825/summaries/\n",
    "\n",
    "<img src=\"assets/loss.png\"/>"
   ]
  },
  {
   "cell_type": "markdown",
   "metadata": {},
   "source": [
    "## 保存参数\n",
    "保存`save_dir` 在生成预测时使用。"
   ]
  },
  {
   "cell_type": "code",
   "execution_count": 27,
   "metadata": {},
   "outputs": [],
   "source": [
    "save_params((save_dir))\n",
    "\n",
    "load_dir = load_params()"
   ]
  },
  {
   "cell_type": "markdown",
   "metadata": {},
   "source": [
    "## 显示训练Loss"
   ]
  },
  {
   "cell_type": "code",
   "execution_count": 28,
   "metadata": {},
   "outputs": [
    {
     "data": {
      "image/png": "[encoded data removed]",
      "text/plain": [
       "<matplotlib.figure.Figure at 0x2adfe3a76d8>"
      ]
     },
     "metadata": {
      "image/png": {
       "height": 250,
       "width": 377
      }
     },
     "output_type": "display_data"
    }
   ],
   "source": [
    "plt.plot(losses['train'], label='Training loss')\n",
    "plt.legend()\n",
    "_ = plt.ylim()"
   ]
  },
  {
   "cell_type": "markdown",
   "metadata": {},
   "source": [
    "## 显示测试Loss\n",
    "迭代次数再增加一些，下降的趋势会明显一些"
   ]
  },
  {
   "cell_type": "code",
   "execution_count": 29,
   "metadata": {},
   "outputs": [
    {
     "data": {
      "image/png": "[encoded data removed]",
      "text/plain": [
       "<matplotlib.figure.Figure at 0x2ad8a057f60>"
      ]
     },
     "metadata": {
      "image/png": {
       "height": 250,
       "width": 377
      }
     },
     "output_type": "display_data"
    }
   ],
   "source": [
    "plt.plot(losses['test'], label='Test loss')\n",
    "plt.legend()\n",
    "_ = plt.ylim()"
   ]
  },
  {
   "cell_type": "markdown",
   "metadata": {},
   "source": [
    "## 获取 Tensors\n",
    "使用函数 [`get_tensor_by_name()`](https://www.tensorflow.org/api_docs/python/tf/Graph#get_tensor_by_name)从 `loaded_graph` 中获取tensors，后面的推荐功能要用到。"
   ]
  },
  {
   "cell_type": "code",
   "execution_count": 30,
   "metadata": {},
   "outputs": [],
   "source": [
    "def get_tensors(loaded_graph):\n",
    "\n",
    "    uid = loaded_graph.get_tensor_by_name(\"uid:0\")\n",
    "    user_gender = loaded_graph.get_tensor_by_name(\"user_gender:0\")\n",
    "    user_age = loaded_graph.get_tensor_by_name(\"user_age:0\")\n",
    "    user_job = loaded_graph.get_tensor_by_name(\"user_job:0\")\n",
    "    movie_id = loaded_graph.get_tensor_by_name(\"movie_id:0\")\n",
    "    movie_categories = loaded_graph.get_tensor_by_name(\"movie_categories:0\")\n",
    "    movie_titles = loaded_graph.get_tensor_by_name(\"movie_titles:0\")\n",
    "    targets = loaded_graph.get_tensor_by_name(\"targets:0\")\n",
    "    dropout_keep_prob = loaded_graph.get_tensor_by_name(\"dropout_keep_prob:0\")\n",
    "    lr = loaded_graph.get_tensor_by_name(\"LearningRate:0\")\n",
    "    #两种不同计算预测评分的方案使用不同的name获取tensor inference\n",
    "#     inference = loaded_graph.get_tensor_by_name(\"inference/inference/BiasAdd:0\")\n",
    "    inference = loaded_graph.get_tensor_by_name(\"inference/ExpandDims:0\") # 之前是MatMul:0 因为inference代码修改了 这里也要修改 感谢网友 @清歌 指出问题\n",
    "    movie_combine_layer_flat = loaded_graph.get_tensor_by_name(\"movie_fc/Reshape:0\")\n",
    "    user_combine_layer_flat = loaded_graph.get_tensor_by_name(\"user_fc/Reshape:0\")\n",
    "    return uid, user_gender, user_age, user_job, movie_id, movie_categories, movie_titles, targets, lr, dropout_keep_prob, inference, movie_combine_layer_flat, user_combine_layer_flat\n"
   ]
  },
  {
   "cell_type": "markdown",
   "metadata": {},
   "source": [
    "## 指定用户和电影进行评分\n",
    "这部分就是对网络做正向传播，计算得到预测的评分"
   ]
  },
  {
   "cell_type": "code",
   "execution_count": 31,
   "metadata": {},
   "outputs": [],
   "source": [
    "def rating_movie(user_id_val, movie_id_val):\n",
    "    loaded_graph = tf.Graph()  #\n",
    "    with tf.Session(graph=loaded_graph) as sess:  #\n",
    "        # Load saved model\n",
    "        loader = tf.train.import_meta_graph(load_dir + '.meta')\n",
    "        loader.restore(sess, load_dir)\n",
    "    \n",
    "        # Get Tensors from loaded model\n",
    "        uid, user_gender, user_age, user_job, movie_id, movie_categories, movie_titles, targets, lr, dropout_keep_prob, inference,_, __ = get_tensors(loaded_graph)  #loaded_graph\n",
    "    \n",
    "        categories = np.zeros([1, 18])\n",
    "        categories[0] = movies.values[movieid2idx[movie_id_val]][2]\n",
    "    \n",
    "        titles = np.zeros([1, sentences_size])\n",
    "        titles[0] = movies.values[movieid2idx[movie_id_val]][1]\n",
    "    \n",
    "        feed = {\n",
    "              uid: np.reshape(users.values[user_id_val-1][0], [1, 1]),\n",
    "              user_gender: np.reshape(users.values[user_id_val-1][1], [1, 1]),\n",
    "              user_age: np.reshape(users.values[user_id_val-1][2], [1, 1]),\n",
    "              user_job: np.reshape(users.values[user_id_val-1][3], [1, 1]),\n",
    "              movie_id: np.reshape(movies.values[movieid2idx[movie_id_val]][0], [1, 1]),\n",
    "              movie_categories: categories,  #x.take(6,1)\n",
    "              movie_titles: titles,  #x.take(5,1)\n",
    "              dropout_keep_prob: 1}\n",
    "    \n",
    "        # Get Prediction\n",
    "        inference_val = sess.run([inference], feed)  \n",
    "    \n",
    "        return (inference_val)"
   ]
  },
  {
   "cell_type": "code",
   "execution_count": 32,
   "metadata": {},
   "outputs": [
    {
     "name": "stdout",
     "output_type": "stream",
     "text": [
      "INFO:tensorflow:Restoring parameters from ./save\n"
     ]
    },
    {
     "data": {
      "text/plain": [
       "[array([[3.700735]], dtype=float32)]"
      ]
     },
     "execution_count": 32,
     "metadata": {},
     "output_type": "execute_result"
    }
   ],
   "source": [
    "rating_movie(234, 1401)"
   ]
  },
  {
   "cell_type": "markdown",
   "metadata": {},
   "source": [
    "## 生成Movie特征矩阵\n",
    "将训练好的电影特征组合成电影特征矩阵并保存到本地"
   ]
  },
  {
   "cell_type": "code",
   "execution_count": 33,
   "metadata": {},
   "outputs": [
    {
     "name": "stdout",
     "output_type": "stream",
     "text": [
      "INFO:tensorflow:Restoring parameters from ./save\n"
     ]
    }
   ],
   "source": [
    "loaded_graph = tf.Graph()  #\n",
    "movie_matrics = []\n",
    "with tf.Session(graph=loaded_graph) as sess:  #\n",
    "    # Load saved model\n",
    "    loader = tf.train.import_meta_graph(load_dir + '.meta')\n",
    "    loader.restore(sess, load_dir)\n",
    "\n",
    "    # Get Tensors from loaded model\n",
    "    uid, user_gender, user_age, user_job, movie_id, movie_categories, movie_titles, targets, lr, dropout_keep_prob, _, movie_combine_layer_flat, __ = get_tensors(loaded_graph)  #loaded_graph\n",
    "\n",
    "    for item in movies.values:\n",
    "        categories = np.zeros([1, 18])\n",
    "        categories[0] = item.take(2)\n",
    "\n",
    "        titles = np.zeros([1, sentences_size])\n",
    "        titles[0] = item.take(1)\n",
    "\n",
    "        feed = {\n",
    "            movie_id: np.reshape(item.take(0), [1, 1]),\n",
    "            movie_categories: categories,  #x.take(6,1)\n",
    "            movie_titles: titles,  #x.take(5,1)\n",
    "            dropout_keep_prob: 1}\n",
    "\n",
    "        movie_combine_layer_flat_val = sess.run([movie_combine_layer_flat], feed)  \n",
    "        movie_matrics.append(movie_combine_layer_flat_val)\n",
    "\n",
    "pickle.dump((np.array(movie_matrics).reshape(-1, 200)), open('movie_matrics.p', 'wb'))"
   ]
  },
  {
   "cell_type": "code",
   "execution_count": 34,
   "metadata": {},
   "outputs": [],
   "source": [
    "movie_matrics = pickle.load(open('movie_matrics.p', mode='rb'))"
   ]
  },
  {
   "cell_type": "markdown",
   "metadata": {},
   "source": [
    "## 生成User特征矩阵\n",
    "将训练好的用户特征组合成用户特征矩阵并保存到本地"
   ]
  },
  {
   "cell_type": "code",
   "execution_count": 35,
   "metadata": {},
   "outputs": [
    {
     "name": "stdout",
     "output_type": "stream",
     "text": [
      "INFO:tensorflow:Restoring parameters from ./save\n"
     ]
    }
   ],
   "source": [
    "loaded_graph = tf.Graph()  #\n",
    "users_matrics = []\n",
    "with tf.Session(graph=loaded_graph) as sess:  #\n",
    "    # Load saved model\n",
    "    loader = tf.train.import_meta_graph(load_dir + '.meta')\n",
    "    loader.restore(sess, load_dir)\n",
    "\n",
    "    # Get Tensors from loaded model\n",
    "    uid, user_gender, user_age, user_job, movie_id, movie_categories, movie_titles, targets, lr, dropout_keep_prob, _, __,user_combine_layer_flat = get_tensors(loaded_graph)  #loaded_graph\n",
    "\n",
    "    for item in users.values:\n",
    "\n",
    "        feed = {\n",
    "            uid: np.reshape(item.take(0), [1, 1]),\n",
    "            user_gender: np.reshape(item.take(1), [1, 1]),\n",
    "            user_age: np.reshape(item.take(2), [1, 1]),\n",
    "            user_job: np.reshape(item.take(3), [1, 1]),\n",
    "            dropout_keep_prob: 1}\n",
    "\n",
    "        user_combine_layer_flat_val = sess.run([user_combine_layer_flat], feed)  \n",
    "        users_matrics.append(user_combine_layer_flat_val)\n",
    "\n",
    "pickle.dump((np.array(users_matrics).reshape(-1, 200)), open('users_matrics.p', 'wb'))"
   ]
  },
  {
   "cell_type": "code",
   "execution_count": 36,
   "metadata": {},
   "outputs": [],
   "source": [
    "users_matrics = pickle.load(open('users_matrics.p', mode='rb'))"
   ]
  },
  {
   "cell_type": "markdown",
   "metadata": {},
   "source": [
    "## 开始推荐电影\n",
    "使用生产的用户特征矩阵和电影特征矩阵做电影推荐"
   ]
  },
  {
   "cell_type": "markdown",
   "metadata": {},
   "source": [
    "### 推荐同类型的电影\n",
    "思路是计算当前看的电影特征向量与整个电影特征矩阵的余弦相似度，取相似度最大的top_k个，这里加了些随机选择在里面，保证每次的推荐稍稍有些不同。"
   ]
  },
  {
   "cell_type": "code",
   "execution_count": 37,
   "metadata": {},
   "outputs": [],
   "source": [
    "def recommend_same_type_movie(movie_id_val, top_k = 20):\n",
    "    \n",
    "    loaded_graph = tf.Graph()  #\n",
    "    with tf.Session(graph=loaded_graph) as sess:  #\n",
    "        # Load saved model\n",
    "        loader = tf.train.import_meta_graph(load_dir + '.meta')\n",
    "        loader.restore(sess, load_dir)\n",
    "        \n",
    "        norm_movie_matrics = tf.sqrt(tf.reduce_sum(tf.square(movie_matrics), 1, keep_dims=True))\n",
    "        normalized_movie_matrics = movie_matrics / norm_movie_matrics\n",
    "\n",
    "        #推荐同类型的电影\n",
    "        probs_embeddings = (movie_matrics[movieid2idx[movie_id_val]]).reshape([1, 200])\n",
    "        probs_similarity = tf.matmul(probs_embeddings, tf.transpose(normalized_movie_matrics))\n",
    "        sim = (probs_similarity.eval())\n",
    "    #     results = (-sim[0]).argsort()[0:top_k]\n",
    "    #     print(results)\n",
    "        \n",
    "        print(\"您看的电影是：{}\".format(movies_orig[movieid2idx[movie_id_val]]))\n",
    "        print(\"以下是给您的推荐：\")\n",
    "        p = np.squeeze(sim)\n",
    "        p[np.argsort(p)[:-top_k]] = 0\n",
    "        p = p / np.sum(p)\n",
    "        results = set()\n",
    "        while len(results) != 5:\n",
    "            c = np.random.choice(3883, 1, p=p)[0]\n",
    "            results.add(c)\n",
    "        for val in (results):\n",
    "            print(val)\n",
    "            print(movies_orig[val])\n",
    "        \n",
    "        return results"
   ]
  },
  {
   "cell_type": "code",
   "execution_count": 38,
   "metadata": {},
   "outputs": [
    {
     "name": "stdout",
     "output_type": "stream",
     "text": [
      "INFO:tensorflow:Restoring parameters from ./save\n",
      "您看的电影是：[1401 'Ghosts of Mississippi (1996)' 'Drama']\n",
      "以下是给您的推荐：\n",
      "1123\n",
      "[1139 'Everything Relative (1996)' 'Drama']\n",
      "1380\n",
      "[1401 'Ghosts of Mississippi (1996)' 'Drama']\n",
      "426\n",
      "[430 'Calendar Girl (1993)' 'Drama']\n",
      "3125\n",
      "[3194 'Way We Were, The (1973)' 'Drama']\n",
      "795\n",
      "[805 'Time to Kill, A (1996)' 'Drama']\n"
     ]
    },
    {
     "data": {
      "text/plain": [
       "{426, 795, 1123, 1380, 3125}"
      ]
     },
     "execution_count": 38,
     "metadata": {},
     "output_type": "execute_result"
    }
   ],
   "source": [
    "recommend_same_type_movie(1401, 20)"
   ]
  },
  {
   "cell_type": "markdown",
   "metadata": {},
   "source": [
    "### 推荐您喜欢的电影\n",
    "思路是使用用户特征向量与电影特征矩阵计算所有电影的评分，取评分最高的top_k个，同样加了些随机选择部分。"
   ]
  },
  {
   "cell_type": "code",
   "execution_count": 39,
   "metadata": {},
   "outputs": [],
   "source": [
    "def recommend_your_favorite_movie(user_id_val, top_k = 10):\n",
    "\n",
    "    loaded_graph = tf.Graph()  #\n",
    "    with tf.Session(graph=loaded_graph) as sess:  #\n",
    "        # Load saved model\n",
    "        loader = tf.train.import_meta_graph(load_dir + '.meta')\n",
    "        loader.restore(sess, load_dir)\n",
    "\n",
    "        #推荐您喜欢的电影\n",
    "        probs_embeddings = (users_matrics[user_id_val-1]).reshape([1, 200])\n",
    "\n",
    "        probs_similarity = tf.matmul(probs_embeddings, tf.transpose(movie_matrics))\n",
    "        sim = (probs_similarity.eval())\n",
    "    #     print(sim.shape)\n",
    "    #     results = (-sim[0]).argsort()[0:top_k]\n",
    "    #     print(results)\n",
    "        \n",
    "    #     sim_norm = probs_norm_similarity.eval()\n",
    "    #     print((-sim_norm[0]).argsort()[0:top_k])\n",
    "    \n",
    "        print(\"以下是给您的推荐：\")\n",
    "        p = np.squeeze(sim)\n",
    "        p[np.argsort(p)[:-top_k]] = 0\n",
    "        p = p / np.sum(p)\n",
    "        results = set()\n",
    "        while len(results) != 5:\n",
    "            c = np.random.choice(3883, 1, p=p)[0]\n",
    "            results.add(c)\n",
    "        for val in (results):\n",
    "            print(val)\n",
    "            print(movies_orig[val])\n",
    "\n",
    "        return results\n"
   ]
  },
  {
   "cell_type": "code",
   "execution_count": 40,
   "metadata": {},
   "outputs": [
    {
     "name": "stdout",
     "output_type": "stream",
     "text": [
      "INFO:tensorflow:Restoring parameters from ./save\n",
      "以下是给您的推荐：\n",
      "523\n",
      "[527 \"Schindler's List (1993)\" 'Drama|War']\n",
      "1132\n",
      "[1148 'Wrong Trousers, The (1993)' 'Animation|Comedy']\n",
      "2836\n",
      "[2905 'Sanjuro (1962)' 'Action|Adventure']\n",
      "3228\n",
      "[3297 'With Byrd at the South Pole (1930)' 'Documentary']\n",
      "2495\n",
      "[2564 'Empty Mirror, The (1999)' 'Drama']\n"
     ]
    },
    {
     "data": {
      "text/plain": [
       "{523, 1132, 2495, 2836, 3228}"
      ]
     },
     "execution_count": 40,
     "metadata": {},
     "output_type": "execute_result"
    }
   ],
   "source": [
    "recommend_your_favorite_movie(234, 10)"
   ]
  },
  {
   "cell_type": "markdown",
   "metadata": {},
   "source": [
    "### 看过这个电影的人还看了（喜欢）哪些电影\n",
    "- 首先选出喜欢某个电影的top_k个人，得到这几个人的用户特征向量。\n",
    "- 然后计算这几个人对所有电影的评分\n",
    "- 选择每个人评分最高的电影作为推荐\n",
    "- 同样加入了随机选择"
   ]
  },
  {
   "cell_type": "code",
   "execution_count": 41,
   "metadata": {},
   "outputs": [],
   "source": [
    "import random\n",
    "\n",
    "def recommend_other_favorite_movie(movie_id_val, top_k = 20):\n",
    "    loaded_graph = tf.Graph()  #\n",
    "    with tf.Session(graph=loaded_graph) as sess:  #\n",
    "        # Load saved model\n",
    "        loader = tf.train.import_meta_graph(load_dir + '.meta')\n",
    "        loader.restore(sess, load_dir)\n",
    "\n",
    "        probs_movie_embeddings = (movie_matrics[movieid2idx[movie_id_val]]).reshape([1, 200])\n",
    "        probs_user_favorite_similarity = tf.matmul(probs_movie_embeddings, tf.transpose(users_matrics))\n",
    "        favorite_user_id = np.argsort(probs_user_favorite_similarity.eval())[0][-top_k:]\n",
    "    #     print(normalized_users_matrics.eval().shape)\n",
    "    #     print(probs_user_favorite_similarity.eval()[0][favorite_user_id])\n",
    "    #     print(favorite_user_id.shape)\n",
    "    \n",
    "        print(\"您看的电影是：{}\".format(movies_orig[movieid2idx[movie_id_val]]))\n",
    "        \n",
    "        print(\"喜欢看这个电影的人是：{}\".format(users_orig[favorite_user_id-1]))\n",
    "        probs_users_embeddings = (users_matrics[favorite_user_id-1]).reshape([-1, 200])\n",
    "        probs_similarity = tf.matmul(probs_users_embeddings, tf.transpose(movie_matrics))\n",
    "        sim = (probs_similarity.eval())\n",
    "    #     results = (-sim[0]).argsort()[0:top_k]\n",
    "    #     print(results)\n",
    "    \n",
    "    #     print(sim.shape)\n",
    "    #     print(np.argmax(sim, 1))\n",
    "        p = np.argmax(sim, 1)\n",
    "        print(\"喜欢看这个电影的人还喜欢看：\")\n",
    "\n",
    "        results = set()\n",
    "        while len(results) != 5:\n",
    "            c = p[random.randrange(top_k)]\n",
    "            results.add(c)\n",
    "        for val in (results):\n",
    "            print(val)\n",
    "            print(movies_orig[val])\n",
    "        \n",
    "        return results"
   ]
  },
  {
   "cell_type": "code",
   "execution_count": 42,
   "metadata": {},
   "outputs": [
    {
     "name": "stdout",
     "output_type": "stream",
     "text": [
      "INFO:tensorflow:Restoring parameters from ./save\n",
      "您看的电影是：[1401 'Ghosts of Mississippi (1996)' 'Drama']\n",
      "喜欢看这个电影的人是：[[100 'M' 35 17]\n",
      " [763 'M' 18 10]\n",
      " [3557 'M' 18 5]\n",
      " [4200 'M' 45 7]\n",
      " [3780 'M' 1 0]\n",
      " [5005 'M' 45 16]\n",
      " [3833 'M' 25 1]\n",
      " [4849 'F' 18 4]\n",
      " [5143 'M' 18 4]\n",
      " [4903 'M' 35 12]\n",
      " [3703 'M' 18 12]\n",
      " [5567 'M' 50 3]\n",
      " [3901 'M' 18 14]\n",
      " [4043 'F' 25 15]\n",
      " [3031 'M' 18 4]\n",
      " [1855 'M' 18 4]\n",
      " [4718 'M' 35 7]\n",
      " [1763 'M' 35 7]\n",
      " [2338 'M' 45 17]\n",
      " [1644 'M' 18 12]]\n",
      "喜欢看这个电影的人还喜欢看：\n",
      "847\n",
      "[858 'Godfather, The (1972)' 'Action|Crime|Drama']\n",
      "49\n",
      "[50 'Usual Suspects, The (1995)' 'Crime|Thriller']\n",
      "1178\n",
      "[1196 'Star Wars: Episode V - The Empire Strikes Back (1980)'\n",
      " 'Action|Adventure|Drama|Sci-Fi|War']\n",
      "315\n",
      "[318 'Shawshank Redemption, The (1994)' 'Drama']\n",
      "3228\n",
      "[3297 'With Byrd at the South Pole (1930)' 'Documentary']\n"
     ]
    },
    {
     "data": {
      "text/plain": [
       "{49, 315, 847, 1178, 3228}"
      ]
     },
     "execution_count": 42,
     "metadata": {},
     "output_type": "execute_result"
    }
   ],
   "source": [
    "recommend_other_favorite_movie(1401, 20)"
   ]
  },
  {
   "cell_type": "markdown",
   "metadata": {},
   "source": [
    "# 结论\n",
    "\n",
    "以上就是实现的常用的推荐功能，将网络模型作为回归问题进行训练，得到训练好的用户特征矩阵和电影特征矩阵进行推荐。"
   ]
  },
  {
   "cell_type": "markdown",
   "metadata": {
    "collapsed": true
   },
   "source": [
    "## 扩展阅读\n",
    "如果你对个性化推荐感兴趣，以下资料建议你看看："
   ]
  },
  {
   "cell_type": "markdown",
   "metadata": {},
   "source": [
    "- [`Understanding Convolutional Neural Networks for NLP`](http://www.wildml.com/2015/11/understanding-convolutional-neural-networks-for-nlp/)\n",
    "\n",
    "- [`Convolutional Neural Networks for Sentence Classification`](https://github.com/yoonkim/CNN_sentence)\n",
    "\n",
    "- [`利用TensorFlow实现卷积神经网络做文本分类`](http://www.jianshu.com/p/ed3eac3dcb39?from=singlemessage)\n",
    "\n",
    "- [`Convolutional Neural Network for Text Classification in Tensorflow`](https://github.com/dennybritz/cnn-text-classification-tf)\n",
    "\n",
    "- [`SVD Implement Recommendation systems`](https://github.com/songgc/TF-recomm)"
   ]
  },
  {
   "cell_type": "markdown",
   "metadata": {},
   "source": [
    "今天的分享就到这里，请多指教！"
   ]
  }
 ],
 "metadata": {
  "kernelspec": {
   "display_name": "Python 3",
   "language": "python",
   "name": "python3"
  },
  "language_info": {
   "codemirror_mode": {
    "name": "ipython",
    "version": 3
   },
   "file_extension": ".py",
   "mimetype": "text/x-python",
   "name": "python",
   "nbconvert_exporter": "python",
   "pygments_lexer": "ipython3",
   "version": "3.6.4"
  }
 },
 "nbformat": 4,
 "nbformat_minor": 1
}
